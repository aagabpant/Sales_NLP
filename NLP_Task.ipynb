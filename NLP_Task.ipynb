{
 "cells": [
  {
   "cell_type": "code",
   "execution_count": 3,
   "metadata": {},
   "outputs": [
    {
     "data": {
      "text/html": [
       "<div>\n",
       "<style scoped>\n",
       "    .dataframe tbody tr th:only-of-type {\n",
       "        vertical-align: middle;\n",
       "    }\n",
       "\n",
       "    .dataframe tbody tr th {\n",
       "        vertical-align: top;\n",
       "    }\n",
       "\n",
       "    .dataframe thead th {\n",
       "        text-align: right;\n",
       "    }\n",
       "</style>\n",
       "<table border=\"1\" class=\"dataframe\">\n",
       "  <thead>\n",
       "    <tr style=\"text-align: right;\">\n",
       "      <th></th>\n",
       "      <th>Main Question</th>\n",
       "    </tr>\n",
       "  </thead>\n",
       "  <tbody>\n",
       "    <tr>\n",
       "      <th>0</th>\n",
       "      <td>Are there information security requirements fo...</td>\n",
       "    </tr>\n",
       "    <tr>\n",
       "      <th>1</th>\n",
       "      <td>What is the password history before reuse?</td>\n",
       "    </tr>\n",
       "    <tr>\n",
       "      <th>2</th>\n",
       "      <td>What controls are in place for accessing produ...</td>\n",
       "    </tr>\n",
       "    <tr>\n",
       "      <th>3</th>\n",
       "      <td>Is this system developed and tested using secu...</td>\n",
       "    </tr>\n",
       "    <tr>\n",
       "      <th>4</th>\n",
       "      <td>What kind of AI is in use?\\n- Deep Learning\\n-...</td>\n",
       "    </tr>\n",
       "  </tbody>\n",
       "</table>\n",
       "</div>"
      ],
      "text/plain": [
       "                                       Main Question\n",
       "0  Are there information security requirements fo...\n",
       "1         What is the password history before reuse?\n",
       "2  What controls are in place for accessing produ...\n",
       "3  Is this system developed and tested using secu...\n",
       "4  What kind of AI is in use?\\n- Deep Learning\\n-..."
      ]
     },
     "execution_count": 3,
     "metadata": {},
     "output_type": "execute_result"
    }
   ],
   "source": [
    "import pandas as pd\n",
    "df = pd.read_csv(r'Data\\questions_nlp_task.csv')\n",
    "df.head()"
   ]
  },
  {
   "cell_type": "code",
   "execution_count": 11,
   "metadata": {},
   "outputs": [
    {
     "data": {
      "text/plain": [
       "(212, 1)"
      ]
     },
     "execution_count": 11,
     "metadata": {},
     "output_type": "execute_result"
    }
   ],
   "source": [
    "df.shape"
   ]
  },
  {
   "cell_type": "code",
   "execution_count": null,
   "metadata": {},
   "outputs": [
    {
     "name": "stdout",
     "output_type": "stream",
     "text": [
      "['Are there information security requirements for Protecting Application Services Transactions?', 'What is the password history before reuse?', 'What controls are in place for accessing production systems?', 'Is this system developed and tested using secure coding standards and practices?', 'What kind of AI is in use?\\n- Deep Learning\\n- Generative AI\\n- Machine Learning', 'Does the organization maintain criteria and conditions that trigger conducting a PIA?', 'Does your organization ensure that no live data, especially personal data, is used in test/development environments?', 'Does the product include recommendations on the hardening or best practice configuration, including the default state of the product?', 'Has this client application/system been a part of a PCI DSS audit in the last 12 months?', 'Are you a provider of health benefit services?', 'Does your company have an individual or group responsible for security within the organization?', 'Do you comply with any request from the client to delete personal data (which includes deleting from all systems)?', 'Which network and device security controls are implemented?', 'If access data is compromised, is it changed immediately after this becomes apparent?', 'Does the information security policy (or policies) cover email use?', 'What backup media is supported and do you use standard or proprietary methodologies?', 'Provide Security architecture landscape/diagram for both models: (includes but is not limited to endpoint,\\ninternet/network, server, and DR)\\n1. On-premise model\\n2. Cloud model', 'For which of these does your company establish and maintain baseline configurations and inventories?', 'Do you conduct an annual assessment to determine if the techniques/procedures utilized to dispose of PII (e.g. deletion, de-identification, cryptographic erasure) have become possible for the client data that has been put beyond use?', 'What User Interfaces are supported out-of-box? What UIs typically need to be built?', \"Can the Non-Prod environment be fully integrated into the client's real-time and batch Non-Prod environment?\", 'Do you have data processing agreements with all your subcontractors? Explain.', 'Do you have a process to maintain oversight on your third parties, subcontractors, labor hire and recruitment agencies, franchisees, etc., adhering to all relevant labor laws? Please share details of the process.', 'Is Ad-Hoc or batched report generation supported?', 'Is there any acceptable usage guidance in place for systems and applications?', 'What time and dates for doing backups (placed during the day)? (e.g. every day at night)', 'Is centralized known good input validation in place to help prevent SQL injection?', 'Does the supplier notify the entity of any vulnerabilities in its products or services promptly, ensuring it does not increase threat vectors?', 'What are the authentication factors used to access web applications that capture, display, or interface with confidential information?', 'Regarding your General Liability insurance, please provide the following: 1) name of your carrier; 2) coverage level (both per occurrence and aggregate); and 3) confirmation that the policy is paid in full and currently in force.', 'How will the use of AI be documented in the information used to make decisions?', \"Within the last 12 months, has the company contracted with an unbiased third party to perform a penetration test and a vulnerability assessment of systems that process, store, or transmit client or client's employee data? If yes, please explain the assessments that were performed.\", \"How would you like the account management team supporting the client to be outlined? Would you prefer to know their titles and locations, or is there another aspect you're interested in?\", 'Do system and application owners periodically review and continuously manage access based on usage and appropriateness?', 'Does the company have membership in any organizations promoting supplier diversity (e.g., The National Minority Supplier Diversity Council (NMSDC), Women Business Enterprise National Council (WBENC), etc)?', 'Does your company have a Third-Party Management process that includes a risk assessment process, due diligence practices, contract structuring and review routines, and ongoing monitoring oversight?', 'Is your organization required to undergo a Payment Card Industry (PCI) Quality Security Assessor (QSA) audit covering the scope of your services and systems relevant to the engagement?', 'Are instructions available for server sanitization (i.e., instructions for how to achieve the permanent deletion of personal or other sensitive data)?', 'Is Bot detection available?', 'Can a single instance support authentication from multiple Active Directory domains?', 'Do you provide an automated defect-tracking process for System changes and Enhancements?', 'Do you have a documented process/system to monitor compliance with consent and withdrawal of consent?', 'Has your company been served with a Prohibition or Improvement notice for any breaches of Health & Safety legislation in the last five years?', 'Does the company have a board and/or management-approved mobile devices management program?', \"If you have a business continuity plan, on which frequency it's exercised and can you provide us with a summary of the results of the latest test?\", 'Regarding the aforementioned automated records retention, will the capabilities be enabled for the services provided?', 'Does the hosting company follow the best practices defined in the ISO/IEC 27001; 27017; and 27018 standards?', 'Are there firewall rules in place that manage access to the respective data from each Business unit?', 'Which application server does your platform support? (e.g. WebSphere, Jboss, Tomcat, Other, etc.) Please specify.', 'Upon successful login, does a message indicate the last time of successful login?', 'Are WAF logs forward to the SIEM for analysis and alerting?', \"What policies are configured for restricting customers' Personally Identifiable Information (PII) leakage from the system?\", 'Are confidential disposal bins in the office securely managed, and are shredders available to personnel as needed?', 'Are the application security tests done by an external, independent, and publicly known company?', 'Has the organization been subject to any enforcement actions by regulators for breaches of relevant Occupational Health and Safety (OHS) legislation or an EU directive in the last three years?', 'After completing a change to the application, do you require your customers to perform testing to validate the integrity and availability of their information?', 'Does your company require you to complete a mutual NDA?', 'Please describe your training programs for new and existing employees/contractors.', 'Does your solution support ACA EDGE Server?', 'Is access to client data limited only to specific users with a business requirement and reviewed at least annually?', 'Are there any REST API authentication methods?', 'Does the vendor provide services that may create an environmental exposure (storage of or handling of oil, gas, other toxic waste, etc.)?', 'Do your employees have access to personal email or social media sites / social networks?', 'Please describe the company/user data you require to provide your service.', 'Please provide the requirements for employees to re-authenticate when attempting to elevate privileges to a higher security level (i.e. \"sudo/su\" for Linux/Mac, \"run as\" for Windows).', 'Please confirm that the client data will be hosted in an environment dedicated to the client.', 'Do you provide a private cloud option, please explain how isolation is achieved for the OS instances running in this private cloud with respect to other OS instances running in your infrastructure.', 'Does your service delete data after a certain period?', 'What data integration options are available?', 'How do you protect your data center against viral, malware, and phishing threats?', 'Does your solution support shared and personal devices?', \"Does the service provider ensure that its processes and policies are compliant with relevant country data protection laws of the client's operating countries?\", 'Is software usage in accordance with contract agreements and copyright laws?', 'Please describe the architecture of this web based application.\\n(i.e. web servers, middleware, platform etc.)', 'Is there a formal sign-off process in your organization to confirm when remediation of identified issues is fully implemented?', 'Can you integrate directly with our directories, and if so, how?', 'Do you maintain a formal Breach Disclosure Plan detailing processes to be followed in the event of a security or privacy incident that results in a potential disclosure of the client data?', 'Does your organization follow secure coding standards to help ensure the suppression of vulnerable code and promote the inclusion of applicable security features? If yes, please provide the standard.', 'Are security event logs protected and retained per defined logging requirements?', 'Please provide details about the datacenter and country where the data would be stored.', 'Please specify whether the system is capable of limiting the number of logon attempts, with a lock-out period for repeated failed logon attempts.', 'Are there formal opening and lock-up routines that guards must follow for the site?', 'Can you share the SLAs for Low, Medium, and High Priority Tickets?', 'How do you receive new information on cyber security?', 'Can you select the physical measure(s) you have taken to control access to the areas/premises in which the Data (Personal Data, Cardholder Data, and/or Financial-related Data) is accessed, handled, and/or processed?\\n- Badge-reading system/access cards/biometrics to prevent unauthorized access\\n- CCTV operations\\n- Controlled-access facilities\\n- Escort-only entry for visitors\\n- Locked file cabinets / locked rooms\\n- Security guards\\n- not applicable', 'Please confirm if the following items are currently installed/enabled on corporate/internal computer systems:\\n- LDAP/AD authenticated source for employee machines\\n- LDAP/AD authenticated source for in-house servers\\n- Antivirus installed on employee machines\\n- Antivirus installed on in-house servers\\n- Full disk encryption on employee machines\\n- Second factor of authentication to access internal services like Google or Office 365\\n- External media storage devices are disabled', 'Do you have an anti-virus & anti-malware solution deployed covering every endpoint in your infrastructure? If yes, please provide details.', 'Is there any provision for inactive user cleanup?', 'Do you evaluate, test, and apply information system patches in a timely fashion according to their risk?', 'What is the protocol for managing and declaring a disaster within an organization?', 'Is data encrypted in transit and at rest? What protocols are used?', 'Do you have an incident response plan that covers monitoring, detection, and response for potential threats and security incidents?', 'Does the cloud provider implement processes to prevent side-channel attacks for virtual machine instances?', 'Does the company have any employees or resources located outside the U.S.?', 'Can we agree on provisions in the contract for investigation? (What would we have access to and how? documentation for auditors?)', 'Could you please explain further the requirement for a “completion ID” in order to be able to assist with data subject rights requests?', 'Please provide Web Link to the Product Privacy Notice.', 'Is access to systems, applications, and data provisioned according to the principle of least privilege?', 'When was the last Penetration test carried out on external-facing web portals? If there were any critical/major vulnerabilities reported, were they resolved in a timely manner? Is there a plan in place to look at any medium to low-valued CVSS that were found?', 'What is the number of employees in the Quality Assurance Department?', 'Will the offeror describe in detail what network access and bandwidth is required for the proposed solution?', 'Does your organization’s strategy include a climate transition plan that aligns with a 1.5°C world? Explain why your organization does not have a climate transition plan that aligns with a 1.5°C world and any plans to develop one in the future.', 'Do you have adequate timing to observe the impact of the change before moving forward?', 'Does your company have Employers Liability Insurance for bodily injury?', 'Do you have a person in charge of the handling of Personal Information, etc.?', 'Do you ensure that information involved in application service transactions is protected to prevent incomplete transmission, misrouting, unauthorized message alteration, unauthorized disclosure, unauthorized message duplication, or replay?', \"Does the organization directly or jointly collect personal data from the individuals (client's employees, prospects, customers etc.) as a part of services provided to the client? If yes, does the organization provide a privacy notice to the individuals before collecting the information?\", 'What is the process of uploading historical data on the platform?', 'Has sensitive information been cleared from QA and development environments based on need-to-know?', 'Does the application have the ability to run a backup concurrently with the operation of the application?', 'Does the service provider identify all the sources of cybersecurity risk management and all the risks assessed and monitored?', 'Do you set the cookie transmission path to the minimum necessary settings?', 'Does your organization require workforce members to take phishing training annually?', \"Does your organization maintain an up-to-date network diagram identifying customers' relevant systems? If yes, please upload the network diagram.\", 'What is the possibility of leveraging specific capabilities (unbundling the program offering)?', 'Is a contract maintained with such fourth parties to require each to adhere to the same legal and contractual requirements that are required by the service organization?', 'Provide information (reports) on penetration tests conducted by external parties, preferably within the last 12 months.', 'Are the workforce (where applicable) trained to identify and report if endpoints and assets are missing security updates?', 'Does the solution have the ability for authorized users to view the audit logs within the system?', 'What approaches does the third party take to patching systems?', 'Do you have training available? If so, what kind?', 'Please describe the development methodology/SDLC used for creating your products/services.', 'Is the system HIPAA compliant? Explain how.', 'Will application data be securely segregated from the data of other customers?', \"Please provide the supplier's key locations.\", 'Do you provide an automated process to support us in our Scope 1+2 data collection (190+ offices in 70 countries)?', 'Are account setting changes logged and retained?', 'Has Sprout Social required vendors, by contract, to immediately return or destroy Personal Information in the vendors’ possession when the contract terminates (or when there is no longer a legitimate business need to possess such Personal Information)?', 'Please select all password authentication best practices that have been implemented:\\n- Minimum password length is 8 characters with full complexity\\n- Password rotation once in 90 days or less\\n- Account lockout or suspension after 6 failed attempts\\n- Password history of 6 previously used passwords stored and restricted from reuse\\n- Passwords stored hashed and salted in accordance with industry best practices\\n- Password-protected screensaver set to no more than 15 minutes expiry after idle time\\n- Denies access whenever an authentication or authorization fails in the application\\n- Users validated on every request\\n- Other', 'In the event that authentication/authorization cannot be brokered to the client, what capabilities are provided in the SaaS Solution for the client to manually manage the identity & Access management lifecycle? Does the SaaS has UI for the client user admins to manage users, roles, and access?', 'What data protection laws are your services subject to (i.e.,\\xa0CCPA/CPRA, GDPR)?\\n- CCPA/CPRA\\n- GDPR\\n- HIPAA\\n- LGPD\\n- PIPEDA', \"How do you measure the accuracy, coherence, and relevance of the AI model's generative outputs?\", 'Does your Privacy Notice describe the purposes for which the collected personal data, including sensitive information, will be used?', 'If software is being developed as part of the solution and there is an external internet-facing function, will an external penetration test be performed?', \"Do you agree to not sell for profit or distribute any client's staff or student data for non-business purposes to any 3rd parties unless explicitly disclosed and agreed upon by the client?\", 'What is the time interval for a screen lock on an inactive workstation?', 'Provide a technical explanation of how you identify injection vulnerabilities for mitigation', 'Is there a management procedure maintained to monitor changes in applicable privacy statutory, regulatory or contractual regulations or contractual obligations?', 'What are the various interface methods that you have experience with for data transport?', 'Will the device run an Antivirus/Antimalware Software? (if not supported, please explain why in the comments)', 'How long would it take to fully recover their service from the moment of disruption, both technology and business processes, based on their documented plans?', 'Are there policies, procedures, or mechanisms in place to keep track of external factors and conditions that might impact overall performance (e.g., financial or operational factors)?', 'Is a software tool/utility used to log complaints/issues? If yes, please identify the application.', 'Is it required to logically segregate backups from production, development, and UAT environments to prevent the spread of malware infections to the backup environment?', 'Should HTTP headers in both requests and responses contain only printable ASCII characters?', 'Do you conform to an IT Governance framework, such as ITIL, CoBIT, or ISO 27001/2? If yes, please indicate which framework(s) below:\\n- ITIL - CoBIT\\n- ISO 27001/2', 'Does the software or application follow and/or implement Information Security principles such as AAA or AAAA?', 'Do you keep security logs for at least 3 months tamper-proof?', 'Please mention your Data Centre Certifications.', 'Do you have an ethical use policy that addresses the use of AI?', 'How can the client obtain regular (quarterly) confirmation that backups are successful? Is there a portal that would tell the client? Would the client raise a support ticket each time? Is there some other way that the client can obtain verification that backups are successful?', 'Do you allow consultation in how our web visitors will flow into your provider web solution? How configurable is the home page?', 'What is the minimum duration for which your organization stores logs?', \"Please provide the training policy or manual review of the vendor's training program to ensure vendor staff are knowledgeable about laws, regulations, and compliances related to compliance services support provided to organizations.\", 'Can you provide a copy of your privacy policy?', 'What is the formal SLA timeline for patching critical and high vulnerabilities?', 'Can the system be configured to meet the following password requirements (local authentication):\\n-must contain a minimum of eight characters;\\n-must include at least one character from three of the following four sets: (1) uppercase alpha, (2) lowercase alpha, (3) numeric, and (4) special characters (e.g. #$%@!);\\n-must expire or require change at a frequency of ninety days or less;\\n-the previous eight passwords must be stored and prevented from re-use;\\n-password reset actions in the system by an administrator or other users must use one-time passwords that require the password to be changed upon the first log-in by the user;\\n-after not more than five invalid password authentication attempts the account must be disabled or locked;\\n-the password must not contain the name of the account (User ID); and\\n-stored passwords must be salted and one-way hashed.', 'Is there a documented process to notify the client in a timely manor in the event of a contingency?', 'Do you utilize defense-in-depth principles in your network architecture to prevent unauthorized access?', 'Do you assure reasonable information security across your information supply chain (sub service organizations) by performing an annual review?', 'Does the supplier have a product change notification (PCN) process that is compliant with a recognized industry standard?', 'Can you provide details of these locations (such as data center regions, office addresses, etc)?', 'What rights do the residents of Massachusetts and Maine have regarding their personal information?', 'Does the organization have a Chief Privacy Officer (CPO) or a functional equivalent?', 'Does your organization have a patch management process for minor and major products?', 'Are organizational inventories of IT assets periodically (annually at minimum) reviewed for completeness and accuracy?', 'Does the organization safeguard power equipment and power cabling for the information system against damage and destruction?', 'Is a session expiration set to force the user to log out if there is no activity within a certain period of time for the accounts used internally and by employees?', \"Do you support an integrated experience?\\na. The client provided logos, name, color, fonts, and tone of voice throughout the web and app platforms.\\nb. The client's brand name URLs\\nc. The client's branded digital (email & texts) and printed member outreach material\\nd. The client's branded App name and instance\\ne. Customized and personalized customer service interaction\", 'Will you send the client copies of the data and/or content, either at a set timeframe or on request?', 'Do the disciplinary standards state that any violation of the standards will result in appropriate disciplinary action?', \"Is in-house application development performed for systems that host company's data?\", 'Is there a process or agreement for any suspected or actual breaches in information security related to the use of any cloud service to be reported immediately to the client in-line with agreed Service Level Agreements?', \"Is timely de-provisioning, revocation, or modification of user access to the organization's systems, information assets, and data implemented upon any change in the status of employees, contractors, customers, business partners, or third parties?\", 'Are Identities and credentials managed\\xa0for authorized devices and users?', 'Is an asset management policy in place? If yes, please describe the review process and frequency.', 'Are changes being made to the system with unique identities?', 'Please describe how the system adheres to relevant safety and data protection regulations (e.g., GDPR, HIPAA) and any certifications that attest to its security and compliance (e.g., ISO 27001).', 'Is a manned reception area or other means to control physical access to the site or building in place?', 'Do corporate policy/procedure(s) exist for security awareness and training processes?', 'Are processes in place to ensure that connecting systems for supported hardware and software have current patch levels?', 'Does your organization conduct Privacy Impact Assessments for the EU-GDPR specific application(s) and/or business processes?', 'Do you implement regular password changes and single-use passwords to ensure that user passwords are regularly updated and refreshed?', 'How frequently does the vendor perform security testing (e.g., penetration tests, vulnerability scans)?', 'Are third-party security tests done against in-house developed and third-party applications that have been configured in the environment?', 'Does your VA/PT program include API security testing? If yes, please share the report.', 'Are background checks on employees conducted periodically throughout employment with you?', 'Do you have an application deployment back-out option?', 'Provide information on the frequency and approach of periodic reviews.', 'Do you have dedicated resources for responding to disruptions, generally, and health pandemics (i.e. COVID-19)?', 'Do the service level agreements/contracts with external suppliers provide for security fixes within a specific timeframe? (i.e., if we identify a serious security weakness in a pen test, do you have a timebound obligation to provide a fix or workaround?)', 'Does the cloud provider indicate whether or not there is a need for unique system environment configuration dependent on the cloud service, such as specifying the use of a particular development language or database?', 'Are systems and software regularly scanned for vulnerabilities and subsequently patched/remediated?', 'Do all developers get unfettered access to development, testing, and production environments?', 'Do you use temporary IAM credentials retrieved by assuming a role whenever possible?', 'Is a web site supported, hosted, or maintained that has access to Scoped systems and data?', 'Describe your network defenses (Examples: firewalls, Anti-Malware (AV, whitelisting), IPS, IDS, DDOS Protection, Two-factor authentication, etc.).', 'Please provide the Vendor Address.', 'Where are files primarily hosted?\\n- Microsoft 365\\n- Google Workspace\\n- Dropbox\\n- Box\\n- Egnyte\\n- Private Cloud\\n- On-Premise File Server\\n- Azure Virtual Server\\n- AWS Virtual Server', 'Does the solution integrate access via mobile applications?', 'Does the solution require or impact any classified data?', 'If there is a backup of the client’s data, is the data encrypted if placed on tape or other media?', 'Do you perform reviews/analysis on the geographical concentration risk of your subcontractors?', 'Is the client notified when an event occurs that may affect the security of their data or processes?', 'Could you provide a network and data flow diagram showing wireless connectivity? Additionally, can you share evidence confirming the correct configuration of all wireless access points used? Furthermore, do you have evidence of regular vulnerability scans for unauthorized wireless access points? Also, what measures are in place to prevent peer-to-peer connections? Moreover, can you describe how encryption and protection are implemented? Lastly, what authentication and authorization methods are utilized?', \"Has the vendor implemented appropriate controls to ensure that it and its personnel only use the client's data to the extent necessary to provide services to the client?\", 'Does the applicant’s email filtering solution block malicious attachments/suspicious file types including executables?', 'Is there a defined exercise regime/schedule focused on key elements of the pandemic or a mass absenteeism plan?', 'Do you have a formal, vendor risk assessment program in place to ensure all third parties that process our data are compliant with the CCPA?', 'Do any of the subcontractors employ workers in non-OECD countries?', \"Are any client's data sent to internally and/or externally hosted ML/AI models?\", 'Detail the support provided by the product for MQ (Message Queue) integration and specify the versions of MQ that are supported.']\n"
     ]
    }
   ],
   "source": [
    "questions=df.iloc[:,0].dropna().tolist()\n",
    "print(questions)"
   ]
  },
  {
   "cell_type": "code",
   "execution_count": 14,
   "metadata": {},
   "outputs": [
    {
     "name": "stderr",
     "output_type": "stream",
     "text": [
      "[nltk_data] Downloading package stopwords to\n",
      "[nltk_data]     C:\\Users\\Aagab\\AppData\\Roaming\\nltk_data...\n",
      "[nltk_data]   Package stopwords is already up-to-date!\n"
     ]
    },
    {
     "data": {
      "text/plain": [
       "True"
      ]
     },
     "execution_count": 14,
     "metadata": {},
     "output_type": "execute_result"
    }
   ],
   "source": [
    "from sklearn.feature_extraction.text import TfidfVectorizer\n",
    "from sklearn.metrics.pairwise import cosine_similarity\n",
    "from nltk.corpus import stopwords\n",
    "import nltk\n",
    "from collections import Counter\n",
    "import re\n",
    "nltk.download('stopwords')"
   ]
  },
  {
   "cell_type": "code",
   "execution_count": null,
   "metadata": {},
   "outputs": [],
   "source": [
    "def clean_text(text):\n",
    "    text = text.lower()\n",
    "    text = re.sub(r'\\W+', ' ', text)\n",
    "    stop_words = set(stopwords.words('english'))\n",
    "    words = text.split()\n",
    "    words = [word for word in words if word not in stop_words] \n",
    "    return \" \".join(words)"
   ]
  },
  {
   "cell_type": "code",
   "execution_count": 24,
   "metadata": {},
   "outputs": [],
   "source": [
    "df[\"cleaned_questions\"] = df[\"Main Question\"].apply(clean_text)"
   ]
  },
  {
   "cell_type": "code",
   "execution_count": 26,
   "metadata": {},
   "outputs": [
    {
     "data": {
      "text/html": [
       "<div>\n",
       "<style scoped>\n",
       "    .dataframe tbody tr th:only-of-type {\n",
       "        vertical-align: middle;\n",
       "    }\n",
       "\n",
       "    .dataframe tbody tr th {\n",
       "        vertical-align: top;\n",
       "    }\n",
       "\n",
       "    .dataframe thead th {\n",
       "        text-align: right;\n",
       "    }\n",
       "</style>\n",
       "<table border=\"1\" class=\"dataframe\">\n",
       "  <thead>\n",
       "    <tr style=\"text-align: right;\">\n",
       "      <th></th>\n",
       "      <th>Main Question</th>\n",
       "      <th>cleaned_questions</th>\n",
       "    </tr>\n",
       "  </thead>\n",
       "  <tbody>\n",
       "    <tr>\n",
       "      <th>0</th>\n",
       "      <td>Are there information security requirements fo...</td>\n",
       "      <td>information security requirements protecting a...</td>\n",
       "    </tr>\n",
       "    <tr>\n",
       "      <th>1</th>\n",
       "      <td>What is the password history before reuse?</td>\n",
       "      <td>password history reuse</td>\n",
       "    </tr>\n",
       "    <tr>\n",
       "      <th>2</th>\n",
       "      <td>What controls are in place for accessing produ...</td>\n",
       "      <td>controls place accessing production systems</td>\n",
       "    </tr>\n",
       "    <tr>\n",
       "      <th>3</th>\n",
       "      <td>Is this system developed and tested using secu...</td>\n",
       "      <td>system developed tested using secure coding st...</td>\n",
       "    </tr>\n",
       "    <tr>\n",
       "      <th>4</th>\n",
       "      <td>What kind of AI is in use?\\n- Deep Learning\\n-...</td>\n",
       "      <td>kind ai use deep learning generative ai machin...</td>\n",
       "    </tr>\n",
       "  </tbody>\n",
       "</table>\n",
       "</div>"
      ],
      "text/plain": [
       "                                       Main Question  \\\n",
       "0  Are there information security requirements fo...   \n",
       "1         What is the password history before reuse?   \n",
       "2  What controls are in place for accessing produ...   \n",
       "3  Is this system developed and tested using secu...   \n",
       "4  What kind of AI is in use?\\n- Deep Learning\\n-...   \n",
       "\n",
       "                                   cleaned_questions  \n",
       "0  information security requirements protecting a...  \n",
       "1                             password history reuse  \n",
       "2        controls place accessing production systems  \n",
       "3  system developed tested using secure coding st...  \n",
       "4  kind ai use deep learning generative ai machin...  "
      ]
     },
     "execution_count": 26,
     "metadata": {},
     "output_type": "execute_result"
    }
   ],
   "source": [
    "df.head()"
   ]
  },
  {
   "cell_type": "code",
   "execution_count": 46,
   "metadata": {},
   "outputs": [
    {
     "name": "stdout",
     "output_type": "stream",
     "text": [
      "['Are there information security requirements for Protecting Application Services Transactions?', 'What is the password history before reuse?', 'What controls are in place for accessing production systems?', 'Is this system developed and tested using secure coding standards and practices?', 'What kind of AI is in use?\\n- Deep Learning\\n- Generative AI\\n- Machine Learning', 'Does the organization maintain criteria and conditions that trigger conducting a PIA?', 'Does your organization ensure that no live data, especially personal data, is used in test/development environments?', 'Does the product include recommendations on the hardening or best practice configuration, including the default state of the product?', 'Has this client application/system been a part of a PCI DSS audit in the last 12 months?', 'Are you a provider of health benefit services?', 'Does your company have an individual or group responsible for security within the organization?', 'Do you comply with any request from the client to delete personal data (which includes deleting from all systems)?', 'Which network and device security controls are implemented?', 'If access data is compromised, is it changed immediately after this becomes apparent?', 'Does the information security policy (or policies) cover email use?', 'What backup media is supported and do you use standard or proprietary methodologies?', 'Provide Security architecture landscape/diagram for both models: (includes but is not limited to endpoint,\\ninternet/network, server, and DR)\\n1. On-premise model\\n2. Cloud model', 'For which of these does your company establish and maintain baseline configurations and inventories?', 'Do you conduct an annual assessment to determine if the techniques/procedures utilized to dispose of PII (e.g. deletion, de-identification, cryptographic erasure) have become possible for the client data that has been put beyond use?', 'What User Interfaces are supported out-of-box? What UIs typically need to be built?', \"Can the Non-Prod environment be fully integrated into the client's real-time and batch Non-Prod environment?\", 'Do you have data processing agreements with all your subcontractors? Explain.', 'Do you have a process to maintain oversight on your third parties, subcontractors, labor hire and recruitment agencies, franchisees, etc., adhering to all relevant labor laws? Please share details of the process.', 'Is Ad-Hoc or batched report generation supported?', 'Is there any acceptable usage guidance in place for systems and applications?', 'What time and dates for doing backups (placed during the day)? (e.g. every day at night)', 'Is centralized known good input validation in place to help prevent SQL injection?', 'Does the supplier notify the entity of any vulnerabilities in its products or services promptly, ensuring it does not increase threat vectors?', 'What are the authentication factors used to access web applications that capture, display, or interface with confidential information?', 'Regarding your General Liability insurance, please provide the following: 1) name of your carrier; 2) coverage level (both per occurrence and aggregate); and 3) confirmation that the policy is paid in full and currently in force.', 'How will the use of AI be documented in the information used to make decisions?', \"Within the last 12 months, has the company contracted with an unbiased third party to perform a penetration test and a vulnerability assessment of systems that process, store, or transmit client or client's employee data? If yes, please explain the assessments that were performed.\", \"How would you like the account management team supporting the client to be outlined? Would you prefer to know their titles and locations, or is there another aspect you're interested in?\", 'Do system and application owners periodically review and continuously manage access based on usage and appropriateness?', 'Does the company have membership in any organizations promoting supplier diversity (e.g., The National Minority Supplier Diversity Council (NMSDC), Women Business Enterprise National Council (WBENC), etc)?', 'Does your company have a Third-Party Management process that includes a risk assessment process, due diligence practices, contract structuring and review routines, and ongoing monitoring oversight?', 'Is your organization required to undergo a Payment Card Industry (PCI) Quality Security Assessor (QSA) audit covering the scope of your services and systems relevant to the engagement?', 'Are instructions available for server sanitization (i.e., instructions for how to achieve the permanent deletion of personal or other sensitive data)?', 'Is Bot detection available?', 'Can a single instance support authentication from multiple Active Directory domains?', 'Do you provide an automated defect-tracking process for System changes and Enhancements?', 'Do you have a documented process/system to monitor compliance with consent and withdrawal of consent?', 'Has your company been served with a Prohibition or Improvement notice for any breaches of Health & Safety legislation in the last five years?', 'Does the company have a board and/or management-approved mobile devices management program?', \"If you have a business continuity plan, on which frequency it's exercised and can you provide us with a summary of the results of the latest test?\", 'Regarding the aforementioned automated records retention, will the capabilities be enabled for the services provided?', 'Does the hosting company follow the best practices defined in the ISO/IEC 27001; 27017; and 27018 standards?', 'Are there firewall rules in place that manage access to the respective data from each Business unit?', 'Which application server does your platform support? (e.g. WebSphere, Jboss, Tomcat, Other, etc.) Please specify.', 'Upon successful login, does a message indicate the last time of successful login?', 'Are WAF logs forward to the SIEM for analysis and alerting?', \"What policies are configured for restricting customers' Personally Identifiable Information (PII) leakage from the system?\", 'Are confidential disposal bins in the office securely managed, and are shredders available to personnel as needed?', 'Are the application security tests done by an external, independent, and publicly known company?', 'Has the organization been subject to any enforcement actions by regulators for breaches of relevant Occupational Health and Safety (OHS) legislation or an EU directive in the last three years?', 'After completing a change to the application, do you require your customers to perform testing to validate the integrity and availability of their information?', 'Does your company require you to complete a mutual NDA?', 'Please describe your training programs for new and existing employees/contractors.', 'Does your solution support ACA EDGE Server?', 'Is access to client data limited only to specific users with a business requirement and reviewed at least annually?', 'Are there any REST API authentication methods?', 'Does the vendor provide services that may create an environmental exposure (storage of or handling of oil, gas, other toxic waste, etc.)?', 'Do your employees have access to personal email or social media sites / social networks?', 'Please describe the company/user data you require to provide your service.', 'Please provide the requirements for employees to re-authenticate when attempting to elevate privileges to a higher security level (i.e. \"sudo/su\" for Linux/Mac, \"run as\" for Windows).', 'Please confirm that the client data will be hosted in an environment dedicated to the client.', 'Do you provide a private cloud option, please explain how isolation is achieved for the OS instances running in this private cloud with respect to other OS instances running in your infrastructure.', 'Does your service delete data after a certain period?', 'What data integration options are available?', 'How do you protect your data center against viral, malware, and phishing threats?', 'Does your solution support shared and personal devices?', \"Does the service provider ensure that its processes and policies are compliant with relevant country data protection laws of the client's operating countries?\", 'Is software usage in accordance with contract agreements and copyright laws?', 'Please describe the architecture of this web based application.\\n(i.e. web servers, middleware, platform etc.)', 'Is there a formal sign-off process in your organization to confirm when remediation of identified issues is fully implemented?', 'Can you integrate directly with our directories, and if so, how?', 'Do you maintain a formal Breach Disclosure Plan detailing processes to be followed in the event of a security or privacy incident that results in a potential disclosure of the client data?', 'Does your organization follow secure coding standards to help ensure the suppression of vulnerable code and promote the inclusion of applicable security features? If yes, please provide the standard.', 'Are security event logs protected and retained per defined logging requirements?', 'Please provide details about the datacenter and country where the data would be stored.', 'Please specify whether the system is capable of limiting the number of logon attempts, with a lock-out period for repeated failed logon attempts.', 'Are there formal opening and lock-up routines that guards must follow for the site?', 'Can you share the SLAs for Low, Medium, and High Priority Tickets?', 'How do you receive new information on cyber security?', 'Can you select the physical measure(s) you have taken to control access to the areas/premises in which the Data (Personal Data, Cardholder Data, and/or Financial-related Data) is accessed, handled, and/or processed?\\n- Badge-reading system/access cards/biometrics to prevent unauthorized access\\n- CCTV operations\\n- Controlled-access facilities\\n- Escort-only entry for visitors\\n- Locked file cabinets / locked rooms\\n- Security guards\\n- not applicable', 'Please confirm if the following items are currently installed/enabled on corporate/internal computer systems:\\n- LDAP/AD authenticated source for employee machines\\n- LDAP/AD authenticated source for in-house servers\\n- Antivirus installed on employee machines\\n- Antivirus installed on in-house servers\\n- Full disk encryption on employee machines\\n- Second factor of authentication to access internal services like Google or Office 365\\n- External media storage devices are disabled', 'Do you have an anti-virus & anti-malware solution deployed covering every endpoint in your infrastructure? If yes, please provide details.', 'Is there any provision for inactive user cleanup?', 'Do you evaluate, test, and apply information system patches in a timely fashion according to their risk?', 'What is the protocol for managing and declaring a disaster within an organization?', 'Is data encrypted in transit and at rest? What protocols are used?', 'Do you have an incident response plan that covers monitoring, detection, and response for potential threats and security incidents?', 'Does the cloud provider implement processes to prevent side-channel attacks for virtual machine instances?', 'Does the company have any employees or resources located outside the U.S.?', 'Can we agree on provisions in the contract for investigation? (What would we have access to and how? documentation for auditors?)', 'Could you please explain further the requirement for a “completion ID” in order to be able to assist with data subject rights requests?', 'Please provide Web Link to the Product Privacy Notice.', 'Is access to systems, applications, and data provisioned according to the principle of least privilege?', 'When was the last Penetration test carried out on external-facing web portals? If there were any critical/major vulnerabilities reported, were they resolved in a timely manner? Is there a plan in place to look at any medium to low-valued CVSS that were found?', 'What is the number of employees in the Quality Assurance Department?', 'Will the offeror describe in detail what network access and bandwidth is required for the proposed solution?', 'Does your organization’s strategy include a climate transition plan that aligns with a 1.5°C world? Explain why your organization does not have a climate transition plan that aligns with a 1.5°C world and any plans to develop one in the future.', 'Do you have adequate timing to observe the impact of the change before moving forward?', 'Does your company have Employers Liability Insurance for bodily injury?', 'Do you have a person in charge of the handling of Personal Information, etc.?', 'Do you ensure that information involved in application service transactions is protected to prevent incomplete transmission, misrouting, unauthorized message alteration, unauthorized disclosure, unauthorized message duplication, or replay?', \"Does the organization directly or jointly collect personal data from the individuals (client's employees, prospects, customers etc.) as a part of services provided to the client? If yes, does the organization provide a privacy notice to the individuals before collecting the information?\", 'What is the process of uploading historical data on the platform?', 'Has sensitive information been cleared from QA and development environments based on need-to-know?', 'Does the application have the ability to run a backup concurrently with the operation of the application?', 'Does the service provider identify all the sources of cybersecurity risk management and all the risks assessed and monitored?', 'Do you set the cookie transmission path to the minimum necessary settings?', 'Does your organization require workforce members to take phishing training annually?', \"Does your organization maintain an up-to-date network diagram identifying customers' relevant systems? If yes, please upload the network diagram.\", 'What is the possibility of leveraging specific capabilities (unbundling the program offering)?', 'Is a contract maintained with such fourth parties to require each to adhere to the same legal and contractual requirements that are required by the service organization?', 'Provide information (reports) on penetration tests conducted by external parties, preferably within the last 12 months.', 'Are the workforce (where applicable) trained to identify and report if endpoints and assets are missing security updates?', 'Does the solution have the ability for authorized users to view the audit logs within the system?', 'What approaches does the third party take to patching systems?', 'Do you have training available? If so, what kind?', 'Please describe the development methodology/SDLC used for creating your products/services.', 'Is the system HIPAA compliant? Explain how.', 'Will application data be securely segregated from the data of other customers?', \"Please provide the supplier's key locations.\", 'Do you provide an automated process to support us in our Scope 1+2 data collection (190+ offices in 70 countries)?', 'Are account setting changes logged and retained?', 'Has Sprout Social required vendors, by contract, to immediately return or destroy Personal Information in the vendors’ possession when the contract terminates (or when there is no longer a legitimate business need to possess such Personal Information)?', 'Please select all password authentication best practices that have been implemented:\\n- Minimum password length is 8 characters with full complexity\\n- Password rotation once in 90 days or less\\n- Account lockout or suspension after 6 failed attempts\\n- Password history of 6 previously used passwords stored and restricted from reuse\\n- Passwords stored hashed and salted in accordance with industry best practices\\n- Password-protected screensaver set to no more than 15 minutes expiry after idle time\\n- Denies access whenever an authentication or authorization fails in the application\\n- Users validated on every request\\n- Other', 'In the event that authentication/authorization cannot be brokered to the client, what capabilities are provided in the SaaS Solution for the client to manually manage the identity & Access management lifecycle? Does the SaaS has UI for the client user admins to manage users, roles, and access?', 'What data protection laws are your services subject to (i.e.,\\xa0CCPA/CPRA, GDPR)?\\n- CCPA/CPRA\\n- GDPR\\n- HIPAA\\n- LGPD\\n- PIPEDA', \"How do you measure the accuracy, coherence, and relevance of the AI model's generative outputs?\", 'Does your Privacy Notice describe the purposes for which the collected personal data, including sensitive information, will be used?', 'If software is being developed as part of the solution and there is an external internet-facing function, will an external penetration test be performed?', \"Do you agree to not sell for profit or distribute any client's staff or student data for non-business purposes to any 3rd parties unless explicitly disclosed and agreed upon by the client?\", 'What is the time interval for a screen lock on an inactive workstation?', 'Provide a technical explanation of how you identify injection vulnerabilities for mitigation', 'Is there a management procedure maintained to monitor changes in applicable privacy statutory, regulatory or contractual regulations or contractual obligations?', 'What are the various interface methods that you have experience with for data transport?', 'Will the device run an Antivirus/Antimalware Software? (if not supported, please explain why in the comments)', 'How long would it take to fully recover their service from the moment of disruption, both technology and business processes, based on their documented plans?', 'Are there policies, procedures, or mechanisms in place to keep track of external factors and conditions that might impact overall performance (e.g., financial or operational factors)?', 'Is a software tool/utility used to log complaints/issues? If yes, please identify the application.', 'Is it required to logically segregate backups from production, development, and UAT environments to prevent the spread of malware infections to the backup environment?', 'Should HTTP headers in both requests and responses contain only printable ASCII characters?', 'Do you conform to an IT Governance framework, such as ITIL, CoBIT, or ISO 27001/2? If yes, please indicate which framework(s) below:\\n- ITIL - CoBIT\\n- ISO 27001/2', 'Does the software or application follow and/or implement Information Security principles such as AAA or AAAA?', 'Do you keep security logs for at least 3 months tamper-proof?', 'Please mention your Data Centre Certifications.', 'Do you have an ethical use policy that addresses the use of AI?', 'How can the client obtain regular (quarterly) confirmation that backups are successful? Is there a portal that would tell the client? Would the client raise a support ticket each time? Is there some other way that the client can obtain verification that backups are successful?', 'Do you allow consultation in how our web visitors will flow into your provider web solution? How configurable is the home page?', 'What is the minimum duration for which your organization stores logs?', \"Please provide the training policy or manual review of the vendor's training program to ensure vendor staff are knowledgeable about laws, regulations, and compliances related to compliance services support provided to organizations.\", 'Can you provide a copy of your privacy policy?', 'What is the formal SLA timeline for patching critical and high vulnerabilities?', 'Can the system be configured to meet the following password requirements (local authentication):\\n-must contain a minimum of eight characters;\\n-must include at least one character from three of the following four sets: (1) uppercase alpha, (2) lowercase alpha, (3) numeric, and (4) special characters (e.g. #$%@!);\\n-must expire or require change at a frequency of ninety days or less;\\n-the previous eight passwords must be stored and prevented from re-use;\\n-password reset actions in the system by an administrator or other users must use one-time passwords that require the password to be changed upon the first log-in by the user;\\n-after not more than five invalid password authentication attempts the account must be disabled or locked;\\n-the password must not contain the name of the account (User ID); and\\n-stored passwords must be salted and one-way hashed.', 'Is there a documented process to notify the client in a timely manor in the event of a contingency?', 'Do you utilize defense-in-depth principles in your network architecture to prevent unauthorized access?', 'Do you assure reasonable information security across your information supply chain (sub service organizations) by performing an annual review?', 'Does the supplier have a product change notification (PCN) process that is compliant with a recognized industry standard?', 'Can you provide details of these locations (such as data center regions, office addresses, etc)?', 'What rights do the residents of Massachusetts and Maine have regarding their personal information?', 'Does the organization have a Chief Privacy Officer (CPO) or a functional equivalent?', 'Does your organization have a patch management process for minor and major products?', 'Are organizational inventories of IT assets periodically (annually at minimum) reviewed for completeness and accuracy?', 'Does the organization safeguard power equipment and power cabling for the information system against damage and destruction?', 'Is a session expiration set to force the user to log out if there is no activity within a certain period of time for the accounts used internally and by employees?', \"Do you support an integrated experience?\\na. The client provided logos, name, color, fonts, and tone of voice throughout the web and app platforms.\\nb. The client's brand name URLs\\nc. The client's branded digital (email & texts) and printed member outreach material\\nd. The client's branded App name and instance\\ne. Customized and personalized customer service interaction\", 'Will you send the client copies of the data and/or content, either at a set timeframe or on request?', 'Do the disciplinary standards state that any violation of the standards will result in appropriate disciplinary action?', \"Is in-house application development performed for systems that host company's data?\", 'Is there a process or agreement for any suspected or actual breaches in information security related to the use of any cloud service to be reported immediately to the client in-line with agreed Service Level Agreements?', \"Is timely de-provisioning, revocation, or modification of user access to the organization's systems, information assets, and data implemented upon any change in the status of employees, contractors, customers, business partners, or third parties?\", 'Are Identities and credentials managed\\xa0for authorized devices and users?', 'Is an asset management policy in place? If yes, please describe the review process and frequency.', 'Are changes being made to the system with unique identities?', 'Please describe how the system adheres to relevant safety and data protection regulations (e.g., GDPR, HIPAA) and any certifications that attest to its security and compliance (e.g., ISO 27001).', 'Is a manned reception area or other means to control physical access to the site or building in place?', 'Do corporate policy/procedure(s) exist for security awareness and training processes?', 'Are processes in place to ensure that connecting systems for supported hardware and software have current patch levels?', 'Does your organization conduct Privacy Impact Assessments for the EU-GDPR specific application(s) and/or business processes?', 'Do you implement regular password changes and single-use passwords to ensure that user passwords are regularly updated and refreshed?', 'How frequently does the vendor perform security testing (e.g., penetration tests, vulnerability scans)?', 'Are third-party security tests done against in-house developed and third-party applications that have been configured in the environment?', 'Does your VA/PT program include API security testing? If yes, please share the report.', 'Are background checks on employees conducted periodically throughout employment with you?', 'Do you have an application deployment back-out option?', 'Provide information on the frequency and approach of periodic reviews.', 'Do you have dedicated resources for responding to disruptions, generally, and health pandemics (i.e. COVID-19)?', 'Do the service level agreements/contracts with external suppliers provide for security fixes within a specific timeframe? (i.e., if we identify a serious security weakness in a pen test, do you have a timebound obligation to provide a fix or workaround?)', 'Does the cloud provider indicate whether or not there is a need for unique system environment configuration dependent on the cloud service, such as specifying the use of a particular development language or database?', 'Are systems and software regularly scanned for vulnerabilities and subsequently patched/remediated?', 'Do all developers get unfettered access to development, testing, and production environments?', 'Do you use temporary IAM credentials retrieved by assuming a role whenever possible?', 'Is a web site supported, hosted, or maintained that has access to Scoped systems and data?', 'Describe your network defenses (Examples: firewalls, Anti-Malware (AV, whitelisting), IPS, IDS, DDOS Protection, Two-factor authentication, etc.).', 'Please provide the Vendor Address.', 'Where are files primarily hosted?\\n- Microsoft 365\\n- Google Workspace\\n- Dropbox\\n- Box\\n- Egnyte\\n- Private Cloud\\n- On-Premise File Server\\n- Azure Virtual Server\\n- AWS Virtual Server', 'Does the solution integrate access via mobile applications?', 'Does the solution require or impact any classified data?', 'If there is a backup of the client’s data, is the data encrypted if placed on tape or other media?', 'Do you perform reviews/analysis on the geographical concentration risk of your subcontractors?', 'Is the client notified when an event occurs that may affect the security of their data or processes?', 'Could you provide a network and data flow diagram showing wireless connectivity? Additionally, can you share evidence confirming the correct configuration of all wireless access points used? Furthermore, do you have evidence of regular vulnerability scans for unauthorized wireless access points? Also, what measures are in place to prevent peer-to-peer connections? Moreover, can you describe how encryption and protection are implemented? Lastly, what authentication and authorization methods are utilized?', \"Has the vendor implemented appropriate controls to ensure that it and its personnel only use the client's data to the extent necessary to provide services to the client?\", 'Does the applicant’s email filtering solution block malicious attachments/suspicious file types including executables?', 'Is there a defined exercise regime/schedule focused on key elements of the pandemic or a mass absenteeism plan?', 'Do you have a formal, vendor risk assessment program in place to ensure all third parties that process our data are compliant with the CCPA?', 'Do any of the subcontractors employ workers in non-OECD countries?', \"Are any client's data sent to internally and/or externally hosted ML/AI models?\", 'Detail the support provided by the product for MQ (Message Queue) integration and specify the versions of MQ that are supported.']\n"
     ]
    }
   ],
   "source": [
    "questions=df.iloc[:,0].dropna().tolist()\n",
    "print(questions)\n"
   ]
  },
  {
   "cell_type": "code",
   "execution_count": 47,
   "metadata": {},
   "outputs": [
    {
     "name": "stdout",
     "output_type": "stream",
     "text": [
      "{'Question 1': 'Please select all password authentication best practices that have been implemented:\\n- Minimum password length is 8 characters with full complexity\\n- Password rotation once in 90 days or less\\n- Account lockout or suspension after 6 failed attempts\\n- Password history of 6 previously used passwords stored and restricted from reuse\\n- Passwords stored hashed and salted in accordance with industry best practices\\n- Password-protected screensaver set to no more than 15 minutes expiry after idle time\\n- Denies access whenever an authentication or authorization fails in the application\\n- Users validated on every request\\n- Other', 'Question 2': 'Can the system be configured to meet the following password requirements (local authentication):\\n-must contain a minimum of eight characters;\\n-must include at least one character from three of the following four sets: (1) uppercase alpha, (2) lowercase alpha, (3) numeric, and (4) special characters (e.g. #$%@!);\\n-must expire or require change at a frequency of ninety days or less;\\n-the previous eight passwords must be stored and prevented from re-use;\\n-password reset actions in the system by an administrator or other users must use one-time passwords that require the password to be changed upon the first log-in by the user;\\n-after not more than five invalid password authentication attempts the account must be disabled or locked;\\n-the password must not contain the name of the account (User ID); and\\n-stored passwords must be salted and one-way hashed.', 'Similarity': np.float64(0.4885457332072072)}\n",
      "Top 10 Most Similar Question Pairs:\n",
      "\n",
      "Group 1 (Similarity: 0.4885):\n",
      "Q1: Please select all password authentication best practices that have been implemented:\n",
      "- Minimum password length is 8 characters with full complexity\n",
      "- Password rotation once in 90 days or less\n",
      "- Account lockout or suspension after 6 failed attempts\n",
      "- Password history of 6 previously used passwords stored and restricted from reuse\n",
      "- Passwords stored hashed and salted in accordance with industry best practices\n",
      "- Password-protected screensaver set to no more than 15 minutes expiry after idle time\n",
      "- Denies access whenever an authentication or authorization fails in the application\n",
      "- Users validated on every request\n",
      "- Other\n",
      "Q2: Can the system be configured to meet the following password requirements (local authentication):\n",
      "-must contain a minimum of eight characters;\n",
      "-must include at least one character from three of the following four sets: (1) uppercase alpha, (2) lowercase alpha, (3) numeric, and (4) special characters (e.g. #$%@!);\n",
      "-must expire or require change at a frequency of ninety days or less;\n",
      "-the previous eight passwords must be stored and prevented from re-use;\n",
      "-password reset actions in the system by an administrator or other users must use one-time passwords that require the password to be changed upon the first log-in by the user;\n",
      "-after not more than five invalid password authentication attempts the account must be disabled or locked;\n",
      "-the password must not contain the name of the account (User ID); and\n",
      "-stored passwords must be salted and one-way hashed.\n",
      "────────────────────────────────────────────────────────────────────────────────\n",
      "\n",
      "Group 2 (Similarity: 0.4196):\n",
      "Q1: What is the password history before reuse?\n",
      "Q2: Please select all password authentication best practices that have been implemented:\n",
      "- Minimum password length is 8 characters with full complexity\n",
      "- Password rotation once in 90 days or less\n",
      "- Account lockout or suspension after 6 failed attempts\n",
      "- Password history of 6 previously used passwords stored and restricted from reuse\n",
      "- Passwords stored hashed and salted in accordance with industry best practices\n",
      "- Password-protected screensaver set to no more than 15 minutes expiry after idle time\n",
      "- Denies access whenever an authentication or authorization fails in the application\n",
      "- Users validated on every request\n",
      "- Other\n",
      "────────────────────────────────────────────────────────────────────────────────\n",
      "\n",
      "Group 3 (Similarity: 0.3959):\n",
      "Q1: Has your company been served with a Prohibition or Improvement notice for any breaches of Health & Safety legislation in the last five years?\n",
      "Q2: Has the organization been subject to any enforcement actions by regulators for breaches of relevant Occupational Health and Safety (OHS) legislation or an EU directive in the last three years?\n",
      "────────────────────────────────────────────────────────────────────────────────\n",
      "\n",
      "Group 4 (Similarity: 0.3340):\n",
      "Q1: Can the system be configured to meet the following password requirements (local authentication):\n",
      "-must contain a minimum of eight characters;\n",
      "-must include at least one character from three of the following four sets: (1) uppercase alpha, (2) lowercase alpha, (3) numeric, and (4) special characters (e.g. #$%@!);\n",
      "-must expire or require change at a frequency of ninety days or less;\n",
      "-the previous eight passwords must be stored and prevented from re-use;\n",
      "-password reset actions in the system by an administrator or other users must use one-time passwords that require the password to be changed upon the first log-in by the user;\n",
      "-after not more than five invalid password authentication attempts the account must be disabled or locked;\n",
      "-the password must not contain the name of the account (User ID); and\n",
      "-stored passwords must be salted and one-way hashed.\n",
      "Q2: Do you implement regular password changes and single-use passwords to ensure that user passwords are regularly updated and refreshed?\n",
      "────────────────────────────────────────────────────────────────────────────────\n",
      "\n",
      "Group 5 (Similarity: 0.3294):\n",
      "Q1: Does your solution support ACA EDGE Server?\n",
      "Q2: Does your solution support shared and personal devices?\n",
      "────────────────────────────────────────────────────────────────────────────────\n",
      "\n",
      "Group 6 (Similarity: 0.3261):\n",
      "Q1: How will the use of AI be documented in the information used to make decisions?\n",
      "Q2: Do you have an ethical use policy that addresses the use of AI?\n",
      "────────────────────────────────────────────────────────────────────────────────\n",
      "\n",
      "Group 7 (Similarity: 0.3228):\n",
      "Q1: Does the information security policy (or policies) cover email use?\n",
      "Q2: Do you have an ethical use policy that addresses the use of AI?\n",
      "────────────────────────────────────────────────────────────────────────────────\n",
      "\n",
      "Group 8 (Similarity: 0.3060):\n",
      "Q1: Does your company require you to complete a mutual NDA?\n",
      "Q2: Please describe the company/user data you require to provide your service.\n",
      "────────────────────────────────────────────────────────────────────────────────\n",
      "\n",
      "Group 9 (Similarity: 0.3051):\n",
      "Q1: What kind of AI is in use?\n",
      "- Deep Learning\n",
      "- Generative AI\n",
      "- Machine Learning\n",
      "Q2: Do you have an ethical use policy that addresses the use of AI?\n",
      "────────────────────────────────────────────────────────────────────────────────\n",
      "\n",
      "Group 10 (Similarity: 0.2894):\n",
      "Q1: What approaches does the third party take to patching systems?\n",
      "Q2: Are third-party security tests done against in-house developed and third-party applications that have been configured in the environment?\n",
      "────────────────────────────────────────────────────────────────────────────────\n"
     ]
    }
   ],
   "source": [
    "from itertools import combinations\n",
    "def similar_question(questions,threshold=0.2):\n",
    "    vectorizer = TfidfVectorizer(stop_words=\"english\")\n",
    "    tfidf_matrix = vectorizer.fit_transform(questions)\n",
    "    similarity_matrix = cosine_similarity(tfidf_matrix)\n",
    "    pairs = []\n",
    "    n = len(questions)\n",
    "\n",
    "    #combination gives pair without reapeating, taking two questions without repeating them\n",
    "    for i, j in combinations(range(n), 2):\n",
    "      pairs.append({\n",
    "          'Question 1': questions[i],\n",
    "          'Question 2': questions[j],\n",
    "          'Similarity': similarity_matrix[i][j]\n",
    "      })\n",
    "\n",
    "    sorted_pairs = sorted(pairs, key=lambda x: x['Similarity'], reverse=True)\n",
    "    top_n = 10\n",
    "    top_groups = sorted_pairs[:top_n]\n",
    "\n",
    "    print(top_groups[0])\n",
    "\n",
    "    print(f\"Top {top_n} Most Similar Question Pairs:\")\n",
    "    for idx, group in enumerate(top_groups, 1):\n",
    "        print(f\"\\nGroup {idx} (Similarity: {group['Similarity']:.4f}):\")\n",
    "        print(f\"Q1: {group['Question 1']}\")\n",
    "        print(f\"Q2: {group['Question 2']}\")\n",
    "        print(\"─\" * 80)\n",
    "\n",
    "\n",
    "\n",
    "\n",
    "similar_question(questions=questions,threshold=0.2)"
   ]
  },
  {
   "cell_type": "code",
   "execution_count": 59,
   "metadata": {},
   "outputs": [
    {
     "name": "stdout",
     "output_type": "stream",
     "text": [
      "Cluster 1:\n",
      "['What is the password history before reuse?', 'Is this system developed and tested using secure coding standards and practices?', 'What kind of AI is in use?\\n- Deep Learning\\n- Generative AI\\n- Machine Learning', 'Does the organization maintain criteria and conditions that trigger conducting a PIA?', 'Does the product include recommendations on the hardening or best practice configuration, including the default state of the product?', 'Are you a provider of health benefit services?', 'For which of these does your company establish and maintain baseline configurations and inventories?', 'What User Interfaces are supported out-of-box? What UIs typically need to be built?', 'Do you have a process to maintain oversight on your third parties, subcontractors, labor hire and recruitment agencies, franchisees, etc., adhering to all relevant labor laws? Please share details of the process.', 'Is Ad-Hoc or batched report generation supported?', 'Is there any acceptable usage guidance in place for systems and applications?', 'Is centralized known good input validation in place to help prevent SQL injection?', 'Does the supplier notify the entity of any vulnerabilities in its products or services promptly, ensuring it does not increase threat vectors?', 'What are the authentication factors used to access web applications that capture, display, or interface with confidential information?', 'Regarding your General Liability insurance, please provide the following: 1) name of your carrier; 2) coverage level (both per occurrence and aggregate); and 3) confirmation that the policy is paid in full and currently in force.', 'How will the use of AI be documented in the information used to make decisions?', 'Do system and application owners periodically review and continuously manage access based on usage and appropriateness?', 'Does the company have membership in any organizations promoting supplier diversity (e.g., The National Minority Supplier Diversity Council (NMSDC), Women Business Enterprise National Council (WBENC), etc)?', 'Does your company have a Third-Party Management process that includes a risk assessment process, due diligence practices, contract structuring and review routines, and ongoing monitoring oversight?', 'Is Bot detection available?', 'Can a single instance support authentication from multiple Active Directory domains?', 'Do you provide an automated defect-tracking process for System changes and Enhancements?', 'Do you have a documented process/system to monitor compliance with consent and withdrawal of consent?', 'Has your company been served with a Prohibition or Improvement notice for any breaches of Health & Safety legislation in the last five years?', 'Does the company have a board and/or management-approved mobile devices management program?', \"If you have a business continuity plan, on which frequency it's exercised and can you provide us with a summary of the results of the latest test?\", 'Regarding the aforementioned automated records retention, will the capabilities be enabled for the services provided?', 'Does the hosting company follow the best practices defined in the ISO/IEC 27001; 27017; and 27018 standards?', 'Which application server does your platform support? (e.g. WebSphere, Jboss, Tomcat, Other, etc.) Please specify.', 'Upon successful login, does a message indicate the last time of successful login?', 'Are WAF logs forward to the SIEM for analysis and alerting?', \"What policies are configured for restricting customers' Personally Identifiable Information (PII) leakage from the system?\", 'Are confidential disposal bins in the office securely managed, and are shredders available to personnel as needed?', 'Has the organization been subject to any enforcement actions by regulators for breaches of relevant Occupational Health and Safety (OHS) legislation or an EU directive in the last three years?', 'After completing a change to the application, do you require your customers to perform testing to validate the integrity and availability of their information?', 'Does your company require you to complete a mutual NDA?', 'Please describe your training programs for new and existing employees/contractors.', 'Does your solution support ACA EDGE Server?', 'Are there any REST API authentication methods?', 'Does the vendor provide services that may create an environmental exposure (storage of or handling of oil, gas, other toxic waste, etc.)?', 'Please describe the company/user data you require to provide your service.', 'Do you provide a private cloud option, please explain how isolation is achieved for the OS instances running in this private cloud with respect to other OS instances running in your infrastructure.', 'Does your solution support shared and personal devices?', 'Is software usage in accordance with contract agreements and copyright laws?', 'Please describe the architecture of this web based application.\\n(i.e. web servers, middleware, platform etc.)', 'Can you integrate directly with our directories, and if so, how?', 'Please provide details about the datacenter and country where the data would be stored.', 'Please specify whether the system is capable of limiting the number of logon attempts, with a lock-out period for repeated failed logon attempts.', 'Are there formal opening and lock-up routines that guards must follow for the site?', 'Can you share the SLAs for Low, Medium, and High Priority Tickets?', 'Please confirm if the following items are currently installed/enabled on corporate/internal computer systems:\\n- LDAP/AD authenticated source for employee machines\\n- LDAP/AD authenticated source for in-house servers\\n- Antivirus installed on employee machines\\n- Antivirus installed on in-house servers\\n- Full disk encryption on employee machines\\n- Second factor of authentication to access internal services like Google or Office 365\\n- External media storage devices are disabled', 'Do you have an anti-virus & anti-malware solution deployed covering every endpoint in your infrastructure? If yes, please provide details.', 'Is there any provision for inactive user cleanup?', 'Do you evaluate, test, and apply information system patches in a timely fashion according to their risk?', 'What is the protocol for managing and declaring a disaster within an organization?', 'Does the cloud provider implement processes to prevent side-channel attacks for virtual machine instances?', 'Does the company have any employees or resources located outside the U.S.?', 'Can we agree on provisions in the contract for investigation? (What would we have access to and how? documentation for auditors?)', 'Please provide Web Link to the Product Privacy Notice.', 'When was the last Penetration test carried out on external-facing web portals? If there were any critical/major vulnerabilities reported, were they resolved in a timely manner? Is there a plan in place to look at any medium to low-valued CVSS that were found?', 'What is the number of employees in the Quality Assurance Department?', 'Does your organization’s strategy include a climate transition plan that aligns with a 1.5°C world? Explain why your organization does not have a climate transition plan that aligns with a 1.5°C world and any plans to develop one in the future.', 'Do you have adequate timing to observe the impact of the change before moving forward?', 'Does your company have Employers Liability Insurance for bodily injury?', 'Do you have a person in charge of the handling of Personal Information, etc.?', 'Do you ensure that information involved in application service transactions is protected to prevent incomplete transmission, misrouting, unauthorized message alteration, unauthorized disclosure, unauthorized message duplication, or replay?', 'Has sensitive information been cleared from QA and development environments based on need-to-know?', 'Does the service provider identify all the sources of cybersecurity risk management and all the risks assessed and monitored?', 'Do you set the cookie transmission path to the minimum necessary settings?', 'Does your organization require workforce members to take phishing training annually?', 'What is the possibility of leveraging specific capabilities (unbundling the program offering)?', 'Is a contract maintained with such fourth parties to require each to adhere to the same legal and contractual requirements that are required by the service organization?', 'Provide information (reports) on penetration tests conducted by external parties, preferably within the last 12 months.', 'Does the solution have the ability for authorized users to view the audit logs within the system?', 'What approaches does the third party take to patching systems?', 'Do you have training available? If so, what kind?', 'Please describe the development methodology/SDLC used for creating your products/services.', 'Is the system HIPAA compliant? Explain how.', \"Please provide the supplier's key locations.\", 'Do you provide an automated process to support us in our Scope 1+2 data collection (190+ offices in 70 countries)?', 'Are account setting changes logged and retained?', 'Has Sprout Social required vendors, by contract, to immediately return or destroy Personal Information in the vendors’ possession when the contract terminates (or when there is no longer a legitimate business need to possess such Personal Information)?', 'Please select all password authentication best practices that have been implemented:\\n- Minimum password length is 8 characters with full complexity\\n- Password rotation once in 90 days or less\\n- Account lockout or suspension after 6 failed attempts\\n- Password history of 6 previously used passwords stored and restricted from reuse\\n- Passwords stored hashed and salted in accordance with industry best practices\\n- Password-protected screensaver set to no more than 15 minutes expiry after idle time\\n- Denies access whenever an authentication or authorization fails in the application\\n- Users validated on every request\\n- Other', \"How do you measure the accuracy, coherence, and relevance of the AI model's generative outputs?\", 'If software is being developed as part of the solution and there is an external internet-facing function, will an external penetration test be performed?', 'What is the time interval for a screen lock on an inactive workstation?', 'Provide a technical explanation of how you identify injection vulnerabilities for mitigation', 'Is there a management procedure maintained to monitor changes in applicable privacy statutory, regulatory or contractual regulations or contractual obligations?', 'How long would it take to fully recover their service from the moment of disruption, both technology and business processes, based on their documented plans?', 'Are there policies, procedures, or mechanisms in place to keep track of external factors and conditions that might impact overall performance (e.g., financial or operational factors)?', 'Is a software tool/utility used to log complaints/issues? If yes, please identify the application.', 'Should HTTP headers in both requests and responses contain only printable ASCII characters?', 'Do you conform to an IT Governance framework, such as ITIL, CoBIT, or ISO 27001/2? If yes, please indicate which framework(s) below:\\n- ITIL - CoBIT\\n- ISO 27001/2', 'Do you have an ethical use policy that addresses the use of AI?', 'Do you allow consultation in how our web visitors will flow into your provider web solution? How configurable is the home page?', 'What is the minimum duration for which your organization stores logs?', \"Please provide the training policy or manual review of the vendor's training program to ensure vendor staff are knowledgeable about laws, regulations, and compliances related to compliance services support provided to organizations.\", 'Can you provide a copy of your privacy policy?', 'What is the formal SLA timeline for patching critical and high vulnerabilities?', 'Can the system be configured to meet the following password requirements (local authentication):\\n-must contain a minimum of eight characters;\\n-must include at least one character from three of the following four sets: (1) uppercase alpha, (2) lowercase alpha, (3) numeric, and (4) special characters (e.g. #$%@!);\\n-must expire or require change at a frequency of ninety days or less;\\n-the previous eight passwords must be stored and prevented from re-use;\\n-password reset actions in the system by an administrator or other users must use one-time passwords that require the password to be changed upon the first log-in by the user;\\n-after not more than five invalid password authentication attempts the account must be disabled or locked;\\n-the password must not contain the name of the account (User ID); and\\n-stored passwords must be salted and one-way hashed.', 'Does the supplier have a product change notification (PCN) process that is compliant with a recognized industry standard?', 'Can you provide details of these locations (such as data center regions, office addresses, etc)?', 'What rights do the residents of Massachusetts and Maine have regarding their personal information?', 'Does the organization have a Chief Privacy Officer (CPO) or a functional equivalent?', 'Does your organization have a patch management process for minor and major products?', 'Are organizational inventories of IT assets periodically (annually at minimum) reviewed for completeness and accuracy?', 'Does the organization safeguard power equipment and power cabling for the information system against damage and destruction?', 'Is a session expiration set to force the user to log out if there is no activity within a certain period of time for the accounts used internally and by employees?', 'Do the disciplinary standards state that any violation of the standards will result in appropriate disciplinary action?', 'Are Identities and credentials managed\\xa0for authorized devices and users?', 'Is an asset management policy in place? If yes, please describe the review process and frequency.', 'Are changes being made to the system with unique identities?', 'Is a manned reception area or other means to control physical access to the site or building in place?', 'Are processes in place to ensure that connecting systems for supported hardware and software have current patch levels?', 'Does your organization conduct Privacy Impact Assessments for the EU-GDPR specific application(s) and/or business processes?', 'Do you implement regular password changes and single-use passwords to ensure that user passwords are regularly updated and refreshed?', 'Are background checks on employees conducted periodically throughout employment with you?', 'Do you have an application deployment back-out option?', 'Provide information on the frequency and approach of periodic reviews.', 'Do you have dedicated resources for responding to disruptions, generally, and health pandemics (i.e. COVID-19)?', 'Does the cloud provider indicate whether or not there is a need for unique system environment configuration dependent on the cloud service, such as specifying the use of a particular development language or database?', 'Are systems and software regularly scanned for vulnerabilities and subsequently patched/remediated?', 'Do all developers get unfettered access to development, testing, and production environments?', 'Do you use temporary IAM credentials retrieved by assuming a role whenever possible?', 'Please provide the Vendor Address.', 'Where are files primarily hosted?\\n- Microsoft 365\\n- Google Workspace\\n- Dropbox\\n- Box\\n- Egnyte\\n- Private Cloud\\n- On-Premise File Server\\n- Azure Virtual Server\\n- AWS Virtual Server', 'Does the solution integrate access via mobile applications?', 'Do you perform reviews/analysis on the geographical concentration risk of your subcontractors?', 'Does the applicant’s email filtering solution block malicious attachments/suspicious file types including executables?', 'Is there a defined exercise regime/schedule focused on key elements of the pandemic or a mass absenteeism plan?', 'Do any of the subcontractors employ workers in non-OECD countries?', 'Detail the support provided by the product for MQ (Message Queue) integration and specify the versions of MQ that are supported.']\n",
      "\n",
      "Cluster 2:\n",
      "['Does your organization ensure that no live data, especially personal data, is used in test/development environments?', 'Has this client application/system been a part of a PCI DSS audit in the last 12 months?', 'Do you comply with any request from the client to delete personal data (which includes deleting from all systems)?', 'If access data is compromised, is it changed immediately after this becomes apparent?', 'What backup media is supported and do you use standard or proprietary methodologies?', 'Do you conduct an annual assessment to determine if the techniques/procedures utilized to dispose of PII (e.g. deletion, de-identification, cryptographic erasure) have become possible for the client data that has been put beyond use?', \"Can the Non-Prod environment be fully integrated into the client's real-time and batch Non-Prod environment?\", 'Do you have data processing agreements with all your subcontractors? Explain.', 'What time and dates for doing backups (placed during the day)? (e.g. every day at night)', \"Within the last 12 months, has the company contracted with an unbiased third party to perform a penetration test and a vulnerability assessment of systems that process, store, or transmit client or client's employee data? If yes, please explain the assessments that were performed.\", \"How would you like the account management team supporting the client to be outlined? Would you prefer to know their titles and locations, or is there another aspect you're interested in?\", 'Are instructions available for server sanitization (i.e., instructions for how to achieve the permanent deletion of personal or other sensitive data)?', 'Are there firewall rules in place that manage access to the respective data from each Business unit?', 'Is access to client data limited only to specific users with a business requirement and reviewed at least annually?', 'Do your employees have access to personal email or social media sites / social networks?', 'Please confirm that the client data will be hosted in an environment dedicated to the client.', 'Does your service delete data after a certain period?', 'What data integration options are available?', 'How do you protect your data center against viral, malware, and phishing threats?', \"Does the service provider ensure that its processes and policies are compliant with relevant country data protection laws of the client's operating countries?\", 'Do you maintain a formal Breach Disclosure Plan detailing processes to be followed in the event of a security or privacy incident that results in a potential disclosure of the client data?', 'Can you select the physical measure(s) you have taken to control access to the areas/premises in which the Data (Personal Data, Cardholder Data, and/or Financial-related Data) is accessed, handled, and/or processed?\\n- Badge-reading system/access cards/biometrics to prevent unauthorized access\\n- CCTV operations\\n- Controlled-access facilities\\n- Escort-only entry for visitors\\n- Locked file cabinets / locked rooms\\n- Security guards\\n- not applicable', 'Is data encrypted in transit and at rest? What protocols are used?', 'Could you please explain further the requirement for a “completion ID” in order to be able to assist with data subject rights requests?', 'Is access to systems, applications, and data provisioned according to the principle of least privilege?', \"Does the organization directly or jointly collect personal data from the individuals (client's employees, prospects, customers etc.) as a part of services provided to the client? If yes, does the organization provide a privacy notice to the individuals before collecting the information?\", 'What is the process of uploading historical data on the platform?', 'Does the application have the ability to run a backup concurrently with the operation of the application?', 'Will application data be securely segregated from the data of other customers?', 'In the event that authentication/authorization cannot be brokered to the client, what capabilities are provided in the SaaS Solution for the client to manually manage the identity & Access management lifecycle? Does the SaaS has UI for the client user admins to manage users, roles, and access?', 'What data protection laws are your services subject to (i.e.,\\xa0CCPA/CPRA, GDPR)?\\n- CCPA/CPRA\\n- GDPR\\n- HIPAA\\n- LGPD\\n- PIPEDA', 'Does your Privacy Notice describe the purposes for which the collected personal data, including sensitive information, will be used?', \"Do you agree to not sell for profit or distribute any client's staff or student data for non-business purposes to any 3rd parties unless explicitly disclosed and agreed upon by the client?\", 'What are the various interface methods that you have experience with for data transport?', 'Is it required to logically segregate backups from production, development, and UAT environments to prevent the spread of malware infections to the backup environment?', 'Please mention your Data Centre Certifications.', 'How can the client obtain regular (quarterly) confirmation that backups are successful? Is there a portal that would tell the client? Would the client raise a support ticket each time? Is there some other way that the client can obtain verification that backups are successful?', 'Is there a documented process to notify the client in a timely manor in the event of a contingency?', \"Do you support an integrated experience?\\na. The client provided logos, name, color, fonts, and tone of voice throughout the web and app platforms.\\nb. The client's brand name URLs\\nc. The client's branded digital (email & texts) and printed member outreach material\\nd. The client's branded App name and instance\\ne. Customized and personalized customer service interaction\", 'Will you send the client copies of the data and/or content, either at a set timeframe or on request?', \"Is in-house application development performed for systems that host company's data?\", 'Please describe how the system adheres to relevant safety and data protection regulations (e.g., GDPR, HIPAA) and any certifications that attest to its security and compliance (e.g., ISO 27001).', 'Is a web site supported, hosted, or maintained that has access to Scoped systems and data?', 'Does the solution require or impact any classified data?', 'If there is a backup of the client’s data, is the data encrypted if placed on tape or other media?', 'Is the client notified when an event occurs that may affect the security of their data or processes?', \"Has the vendor implemented appropriate controls to ensure that it and its personnel only use the client's data to the extent necessary to provide services to the client?\", 'Do you have a formal, vendor risk assessment program in place to ensure all third parties that process our data are compliant with the CCPA?', \"Are any client's data sent to internally and/or externally hosted ML/AI models?\"]\n",
      "\n",
      "Cluster 3:\n",
      "['Are there information security requirements for Protecting Application Services Transactions?', 'What controls are in place for accessing production systems?', 'Does your company have an individual or group responsible for security within the organization?', 'Which network and device security controls are implemented?', 'Does the information security policy (or policies) cover email use?', 'Provide Security architecture landscape/diagram for both models: (includes but is not limited to endpoint,\\ninternet/network, server, and DR)\\n1. On-premise model\\n2. Cloud model', 'Is your organization required to undergo a Payment Card Industry (PCI) Quality Security Assessor (QSA) audit covering the scope of your services and systems relevant to the engagement?', 'Are the application security tests done by an external, independent, and publicly known company?', 'Please provide the requirements for employees to re-authenticate when attempting to elevate privileges to a higher security level (i.e. \"sudo/su\" for Linux/Mac, \"run as\" for Windows).', 'Is there a formal sign-off process in your organization to confirm when remediation of identified issues is fully implemented?', 'Does your organization follow secure coding standards to help ensure the suppression of vulnerable code and promote the inclusion of applicable security features? If yes, please provide the standard.', 'Are security event logs protected and retained per defined logging requirements?', 'How do you receive new information on cyber security?', 'Do you have an incident response plan that covers monitoring, detection, and response for potential threats and security incidents?', 'Will the offeror describe in detail what network access and bandwidth is required for the proposed solution?', \"Does your organization maintain an up-to-date network diagram identifying customers' relevant systems? If yes, please upload the network diagram.\", 'Are the workforce (where applicable) trained to identify and report if endpoints and assets are missing security updates?', 'Will the device run an Antivirus/Antimalware Software? (if not supported, please explain why in the comments)', 'Does the software or application follow and/or implement Information Security principles such as AAA or AAAA?', 'Do you keep security logs for at least 3 months tamper-proof?', 'Do you utilize defense-in-depth principles in your network architecture to prevent unauthorized access?', 'Do you assure reasonable information security across your information supply chain (sub service organizations) by performing an annual review?', 'Is there a process or agreement for any suspected or actual breaches in information security related to the use of any cloud service to be reported immediately to the client in-line with agreed Service Level Agreements?', \"Is timely de-provisioning, revocation, or modification of user access to the organization's systems, information assets, and data implemented upon any change in the status of employees, contractors, customers, business partners, or third parties?\", 'Do corporate policy/procedure(s) exist for security awareness and training processes?', 'How frequently does the vendor perform security testing (e.g., penetration tests, vulnerability scans)?', 'Are third-party security tests done against in-house developed and third-party applications that have been configured in the environment?', 'Does your VA/PT program include API security testing? If yes, please share the report.', 'Do the service level agreements/contracts with external suppliers provide for security fixes within a specific timeframe? (i.e., if we identify a serious security weakness in a pen test, do you have a timebound obligation to provide a fix or workaround?)', 'Describe your network defenses (Examples: firewalls, Anti-Malware (AV, whitelisting), IPS, IDS, DDOS Protection, Two-factor authentication, etc.).', 'Could you provide a network and data flow diagram showing wireless connectivity? Additionally, can you share evidence confirming the correct configuration of all wireless access points used? Furthermore, do you have evidence of regular vulnerability scans for unauthorized wireless access points? Also, what measures are in place to prevent peer-to-peer connections? Moreover, can you describe how encryption and protection are implemented? Lastly, what authentication and authorization methods are utilized?']\n",
      "\n"
     ]
    }
   ],
   "source": [
    "#categorize question into different topics using the k mean clusturing\n",
    "from sklearn.cluster import KMeans\n",
    "def similar_group(questions,num_clusters=3):\n",
    "    vectorizer = TfidfVectorizer(stop_words=\"english\")\n",
    "    tfidf_matrix = vectorizer.fit_transform(questions)\n",
    "\n",
    "    # Apply K-Means clustering\n",
    "    kmeans = KMeans(n_clusters=num_clusters, random_state=42)\n",
    "    clusters = kmeans.fit_predict(tfidf_matrix)\n",
    "\n",
    "    return clusters\n",
    "\n",
    "\n",
    "num_clusters = 3\n",
    "df[\"category\"] = similar_group(df[\"cleaned_questions\"],num_clusters=num_clusters)\n",
    "for i in range(num_clusters):\n",
    "  print(f\"Cluster {i+1}:\")\n",
    "  print(df[df[\"category\"] == i][\"Main Question\"].tolist())\n",
    "  print()\n"
   ]
  },
  {
   "cell_type": "code",
   "execution_count": 52,
   "metadata": {},
   "outputs": [
    {
     "data": {
      "text/html": [
       "<div>\n",
       "<style scoped>\n",
       "    .dataframe tbody tr th:only-of-type {\n",
       "        vertical-align: middle;\n",
       "    }\n",
       "\n",
       "    .dataframe tbody tr th {\n",
       "        vertical-align: top;\n",
       "    }\n",
       "\n",
       "    .dataframe thead th {\n",
       "        text-align: right;\n",
       "    }\n",
       "</style>\n",
       "<table border=\"1\" class=\"dataframe\">\n",
       "  <thead>\n",
       "    <tr style=\"text-align: right;\">\n",
       "      <th></th>\n",
       "      <th>Main Question</th>\n",
       "      <th>cleaned_questions</th>\n",
       "      <th>category</th>\n",
       "    </tr>\n",
       "  </thead>\n",
       "  <tbody>\n",
       "    <tr>\n",
       "      <th>0</th>\n",
       "      <td>Are there information security requirements fo...</td>\n",
       "      <td>information security requirements protecting a...</td>\n",
       "      <td>2</td>\n",
       "    </tr>\n",
       "    <tr>\n",
       "      <th>1</th>\n",
       "      <td>What is the password history before reuse?</td>\n",
       "      <td>password history reuse</td>\n",
       "      <td>0</td>\n",
       "    </tr>\n",
       "    <tr>\n",
       "      <th>2</th>\n",
       "      <td>What controls are in place for accessing produ...</td>\n",
       "      <td>controls place accessing production systems</td>\n",
       "      <td>2</td>\n",
       "    </tr>\n",
       "    <tr>\n",
       "      <th>3</th>\n",
       "      <td>Is this system developed and tested using secu...</td>\n",
       "      <td>system developed tested using secure coding st...</td>\n",
       "      <td>0</td>\n",
       "    </tr>\n",
       "    <tr>\n",
       "      <th>4</th>\n",
       "      <td>What kind of AI is in use?\\n- Deep Learning\\n-...</td>\n",
       "      <td>kind ai use deep learning generative ai machin...</td>\n",
       "      <td>0</td>\n",
       "    </tr>\n",
       "  </tbody>\n",
       "</table>\n",
       "</div>"
      ],
      "text/plain": [
       "                                       Main Question  \\\n",
       "0  Are there information security requirements fo...   \n",
       "1         What is the password history before reuse?   \n",
       "2  What controls are in place for accessing produ...   \n",
       "3  Is this system developed and tested using secu...   \n",
       "4  What kind of AI is in use?\\n- Deep Learning\\n-...   \n",
       "\n",
       "                                   cleaned_questions  category  \n",
       "0  information security requirements protecting a...         2  \n",
       "1                             password history reuse         0  \n",
       "2        controls place accessing production systems         2  \n",
       "3  system developed tested using secure coding st...         0  \n",
       "4  kind ai use deep learning generative ai machin...         0  "
      ]
     },
     "execution_count": 52,
     "metadata": {},
     "output_type": "execute_result"
    }
   ],
   "source": [
    "df.head()"
   ]
  },
  {
   "cell_type": "code",
   "execution_count": 60,
   "metadata": {},
   "outputs": [],
   "source": [
    "def clean_text(text):\n",
    "    text = text.lower()\n",
    "    text = re.sub(r'\\W+', ' ', text)\n",
    "    stop_words = set(stopwords.words('english'))\n",
    "    words = text.split()\n",
    "    words = [word for word in words if word not in stop_words] \n",
    "    return \" \".join(words)"
   ]
  },
  {
   "cell_type": "code",
   "execution_count": null,
   "metadata": {},
   "outputs": [
    {
     "name": "stdout",
     "output_type": "stream",
     "text": [
      "['Are there any REST API authentication methods?', 'Can a single instance support authentication from multiple Active Directory domains?', 'What are the authentication factors used to access web applications that capture, display, or interface with confidential information?', 'Describe your network defenses (Examples: firewalls, Anti-Malware (AV, whitelisting), IPS, IDS, DDOS Protection, Two-factor authentication, etc.).', 'Please select all password authentication best practices that have been implemented:\\n- Minimum password length is 8 characters with full complexity\\n- Password rotation once in 90 days or less\\n- Account lockout or suspension after 6 failed attempts\\n- Password history of 6 previously used passwords stored and restricted from reuse\\n- Passwords stored hashed and salted in accordance with industry best practices\\n- Password-protected screensaver set to no more than 15 minutes expiry after idle time\\n- Denies access whenever an authentication or authorization fails in the application\\n- Users validated on every request\\n- Other']\n"
     ]
    }
   ],
   "source": [
    "def search_questions(query, top_n=5):\n",
    "\n",
    "    vectorizer = TfidfVectorizer(stop_words=\"english\") #instance created for both query and the questions\n",
    "\n",
    "\n",
    "    tfidf_matrix = vectorizer.fit_transform(questions)\n",
    "\n",
    "\n",
    "    query_cleaned = clean_text(query)  # Clean the user query\n",
    "    query_vector = vectorizer.transform([query_cleaned])  # Convert query to vector\n",
    "\n",
    "    similarities = cosine_similarity(query_vector, tfidf_matrix).flatten()  # Compute cosine similarity and flatten it to convert it to 1-D array\n",
    "\n",
    "    # Get top N similar questions\n",
    "    similar_indices = similarities.argsort()[-top_n:][::-1] #finding the index of the top_n similar question\n",
    "\n",
    "    return df.iloc[similar_indices][\"Main Question\"].tolist() #using iloc to return its actual text\n",
    "\n",
    "# Example Usage\n",
    "query = \"Authentication\"\n",
    "similar_questions = search_questions(query, top_n=5)\n",
    "print(similar_questions)"
   ]
  },
  {
   "cell_type": "code",
   "execution_count": 65,
   "metadata": {},
   "outputs": [
    {
     "name": "stdout",
     "output_type": "stream",
     "text": [
      "\n",
      "🔹 **Most Common Topics Identified**:\n",
      "1️⃣ **Category 1:** ['Provide Security architecture landscape/diagram for both models: (includes but is not limited to endpoint,\\ninternet/network, server, and DR)\\n1. On-premise model\\n2. Cloud model', 'Regarding your General Liability insurance, please provide the following: 1) name of your carrier; 2) coverage level (both per occurrence and aggregate); and 3) confirmation that the policy is paid in full and currently in force.', 'Do you provide an automated defect-tracking process for System changes and Enhancements?', \"If you have a business continuity plan, on which frequency it's exercised and can you provide us with a summary of the results of the latest test?\", 'Does the vendor provide services that may create an environmental exposure (storage of or handling of oil, gas, other toxic waste, etc.)?']\n",
      "2️⃣ **Category 2:** ['Are there information security requirements for Protecting Application Services Transactions?', 'What is the password history before reuse?', 'What controls are in place for accessing production systems?', 'Is this system developed and tested using secure coding standards and practices?', 'What kind of AI is in use?\\n- Deep Learning\\n- Generative AI\\n- Machine Learning']\n",
      "3️⃣ **Category 3:** ['Does your organization ensure that no live data, especially personal data, is used in test/development environments?', 'Has this client application/system been a part of a PCI DSS audit in the last 12 months?', 'Do you comply with any request from the client to delete personal data (which includes deleting from all systems)?', 'If access data is compromised, is it changed immediately after this becomes apparent?', 'Do you conduct an annual assessment to determine if the techniques/procedures utilized to dispose of PII (e.g. deletion, de-identification, cryptographic erasure) have become possible for the client data that has been put beyond use?']\n",
      "\n",
      "🔹 **Patterns in Question Structure**:\n",
      "- \"How\" questions: 8 occurrences\n",
      "- \"What\" questions: 20 occurrences\n",
      "- \"Why\" questions: 0 occurrences\n",
      "-  'Do' questions: 38 occurrences\n",
      "- \"Can/Do\" questions: 47 occurrences\n",
      "\n",
      "🔹 **Common Keywords Across Questions**:\n",
      "access, application, authentication, client, company, data, information, organization, password, personal, place, process, provide, security, service, services, solution, systems, use, used\n",
      "\n"
     ]
    }
   ],
   "source": [
    "import re\n",
    "import pandas as pd\n",
    "import nltk\n",
    "from nltk.corpus import stopwords\n",
    "from collections import Counter\n",
    "from sklearn.feature_extraction.text import TfidfVectorizer\n",
    "from sklearn.cluster import KMeans\n",
    "\n",
    "stop_words = set(stopwords.words('english'))\n",
    "\n",
    "# Function to clean text\n",
    "def clean_text(text):\n",
    "    text = text.lower()  # Convert to lowercase\n",
    "    text = re.sub(r'\\W+', ' ', text)  # Remove special characters\n",
    "    words = text.split()\n",
    "    words = [word for word in words if word not in stop_words]  # Remove stopwords\n",
    "    return \" \".join(words)\n",
    "\n",
    "# Load dataset\n",
    "file_path = r\"Data\\questions_nlp_task.csv\"\n",
    "df = pd.read_csv(file_path)\n",
    "\n",
    "# Clean questions\n",
    "df[\"cleaned_questions\"] = df[\"Main Question\"].astype(str).apply(clean_text)\n",
    "\n",
    "# Extract first word to analyze question structure\n",
    "df[\"first_word\"] = df[\"Main Question\"].astype(str).str.split().str[0].str.lower()\n",
    "\n",
    "# Count question types\n",
    "question_type_counts = Counter(df[\"first_word\"])\n",
    "\n",
    "# Identify common keywords using TF-IDF\n",
    "vectorizer = TfidfVectorizer(stop_words=\"english\", max_features=20)\n",
    "tfidf_matrix = vectorizer.fit_transform(df[\"cleaned_questions\"])\n",
    "keywords = vectorizer.get_feature_names_out()\n",
    "\n",
    "# Clustering questions into topics using KMeans\n",
    "num_clusters = 3\n",
    "kmeans = KMeans(n_clusters=num_clusters, random_state=42)\n",
    "df[\"category\"] = kmeans.fit_predict(tfidf_matrix)\n",
    "\n",
    "# Display topic clusters\n",
    "topics = {}\n",
    "for i in range(num_clusters):\n",
    "    topics[f\"Category {i+1}\"] = df[df[\"category\"] == i][\"Main Question\"].head(5).tolist()\n",
    "\n",
    "# Generate summary\n",
    "summary = f\"\"\"\n",
    "🔹 **Most Common Topics Identified**:\n",
    "1️⃣ **Category 1:** {topics['Category 1']}\n",
    "2️⃣ **Category 2:** {topics['Category 2']}\n",
    "3️⃣ **Category 3:** {topics['Category 3']}\n",
    "\n",
    "🔹 **Patterns in Question Structure**:\n",
    "- \"How\" questions: {question_type_counts['how']} occurrences\n",
    "- \"What\" questions: {question_type_counts['what']} occurrences\n",
    "- \"Why\" questions: {question_type_counts['why']} occurrences\n",
    "-  'Do' questions: {question_type_counts['do']} occurrences\n",
    "- \"Can/Do\" questions: {question_type_counts['can'] + question_type_counts['do']} occurrences\n",
    "\n",
    "🔹 **Common Keywords Across Questions**:\n",
    "{', '.join(keywords)}\n",
    "\"\"\"\n",
    "\n",
    "print(summary)\n"
   ]
  },
  {
   "cell_type": "code",
   "execution_count": 67,
   "metadata": {},
   "outputs": [
    {
     "data": {
      "text/html": [
       "<div>\n",
       "<style scoped>\n",
       "    .dataframe tbody tr th:only-of-type {\n",
       "        vertical-align: middle;\n",
       "    }\n",
       "\n",
       "    .dataframe tbody tr th {\n",
       "        vertical-align: top;\n",
       "    }\n",
       "\n",
       "    .dataframe thead th {\n",
       "        text-align: right;\n",
       "    }\n",
       "</style>\n",
       "<table border=\"1\" class=\"dataframe\">\n",
       "  <thead>\n",
       "    <tr style=\"text-align: right;\">\n",
       "      <th></th>\n",
       "      <th>Main Question</th>\n",
       "      <th>cleaned_questions</th>\n",
       "      <th>first_word</th>\n",
       "      <th>category</th>\n",
       "    </tr>\n",
       "  </thead>\n",
       "  <tbody>\n",
       "    <tr>\n",
       "      <th>0</th>\n",
       "      <td>Are there information security requirements fo...</td>\n",
       "      <td>information security requirements protecting a...</td>\n",
       "      <td>are</td>\n",
       "      <td>1</td>\n",
       "    </tr>\n",
       "    <tr>\n",
       "      <th>1</th>\n",
       "      <td>What is the password history before reuse?</td>\n",
       "      <td>password history reuse</td>\n",
       "      <td>what</td>\n",
       "      <td>1</td>\n",
       "    </tr>\n",
       "    <tr>\n",
       "      <th>2</th>\n",
       "      <td>What controls are in place for accessing produ...</td>\n",
       "      <td>controls place accessing production systems</td>\n",
       "      <td>what</td>\n",
       "      <td>1</td>\n",
       "    </tr>\n",
       "    <tr>\n",
       "      <th>3</th>\n",
       "      <td>Is this system developed and tested using secu...</td>\n",
       "      <td>system developed tested using secure coding st...</td>\n",
       "      <td>is</td>\n",
       "      <td>1</td>\n",
       "    </tr>\n",
       "    <tr>\n",
       "      <th>4</th>\n",
       "      <td>What kind of AI is in use?\\n- Deep Learning\\n-...</td>\n",
       "      <td>kind ai use deep learning generative ai machin...</td>\n",
       "      <td>what</td>\n",
       "      <td>1</td>\n",
       "    </tr>\n",
       "  </tbody>\n",
       "</table>\n",
       "</div>"
      ],
      "text/plain": [
       "                                       Main Question  \\\n",
       "0  Are there information security requirements fo...   \n",
       "1         What is the password history before reuse?   \n",
       "2  What controls are in place for accessing produ...   \n",
       "3  Is this system developed and tested using secu...   \n",
       "4  What kind of AI is in use?\\n- Deep Learning\\n-...   \n",
       "\n",
       "                                   cleaned_questions first_word  category  \n",
       "0  information security requirements protecting a...        are         1  \n",
       "1                             password history reuse       what         1  \n",
       "2        controls place accessing production systems       what         1  \n",
       "3  system developed tested using secure coding st...         is         1  \n",
       "4  kind ai use deep learning generative ai machin...       what         1  "
      ]
     },
     "execution_count": 67,
     "metadata": {},
     "output_type": "execute_result"
    }
   ],
   "source": [
    "df.head()"
   ]
  },
  {
   "cell_type": "code",
   "execution_count": null,
   "metadata": {},
   "outputs": [
    {
     "name": "stdout",
     "output_type": "stream",
     "text": [
      "\n",
      "=== Most Common Topics/Themes ===\n",
      "\n",
      "Category 1:\n",
      "Number of questions: 22\n",
      "Sample questions:\n",
      "- Provide Security architecture landscape/diagram for both models: (includes but is not limited to endpoint,\n",
      "internet/network, server, and DR)\n",
      "1. On-premise model\n",
      "2. Cloud model\n",
      "- Regarding your General Liability insurance, please provide the following: 1) name of your carrier; 2) coverage level (both per occurrence and aggregate); and 3) confirmation that the policy is paid in full and currently in force.\n",
      "- Do you provide an automated defect-tracking process for System changes and Enhancements?\n",
      "- If you have a business continuity plan, on which frequency it's exercised and can you provide us with a summary of the results of the latest test?\n",
      "- Does the vendor provide services that may create an environmental exposure (storage of or handling of oil, gas, other toxic waste, etc.)?\n",
      "\n",
      "Category 2:\n",
      "Number of questions: 148\n",
      "Sample questions:\n",
      "- Are there information security requirements for Protecting Application Services Transactions?\n",
      "- What is the password history before reuse?\n",
      "- What controls are in place for accessing production systems?\n",
      "- Is this system developed and tested using secure coding standards and practices?\n",
      "- What kind of AI is in use?\n",
      "- Deep Learning\n",
      "- Generative AI\n",
      "- Machine Learning\n",
      "\n",
      "Category 3:\n",
      "Number of questions: 42\n",
      "Sample questions:\n",
      "- Does your organization ensure that no live data, especially personal data, is used in test/development environments?\n",
      "- Has this client application/system been a part of a PCI DSS audit in the last 12 months?\n",
      "- Do you comply with any request from the client to delete personal data (which includes deleting from all systems)?\n",
      "- If access data is compromised, is it changed immediately after this becomes apparent?\n",
      "- Do you conduct an annual assessment to determine if the techniques/procedures utilized to dispose of PII (e.g. deletion, de-identification, cryptographic erasure) have become possible for the client data that has been put beyond use?\n",
      "\n",
      "=== Patterns in Question Structure ===\n",
      "\n",
      "Most common question starters:\n",
      "- 'Does' appears 39 times\n",
      "- 'Do' appears 38 times\n",
      "- 'Is' appears 27 times\n",
      "- 'Are' appears 21 times\n",
      "- 'What' appears 20 times\n",
      "\n",
      "=== Common Keywords or Phrases ===\n",
      "\n",
      "Most common keywords:\n",
      "- 'data' appears 49 times\n",
      "- 'client' appears 35 times\n",
      "- 'please' appears 30 times\n",
      "- 'security' appears 27 times\n",
      "- 'provide' appears 26 times\n",
      "- 'access' appears 25 times\n",
      "- 'information' appears 24 times\n",
      "- 'organization' appears 21 times\n",
      "- 'application' appears 17 times\n",
      "- 'system' appears 17 times\n"
     ]
    }
   ],
   "source": [
    "def summarize_questions(df):\n",
    "    num_clusters=3\n",
    "    # 1. Most common topics/themes\n",
    "    print(\"\\n=== Most Common Topics/Themes ===\")\n",
    "    for i in range(num_clusters):\n",
    "        print(f\"\\nCategory {i+1}:\")\n",
    "        cluster_questions = df[df[\"category\"] == i][\"Main Question\"].tolist()\n",
    "        print(f\"Number of questions: {len(cluster_questions)}\")\n",
    "        print(\"Sample questions:\")\n",
    "        for question in cluster_questions[:5]:  \n",
    "            print(f\"- {question}\")\n",
    "\n",
    "    # 2. Patterns in question structure\n",
    "    print(\"\\n=== Patterns in Question Structure ===\")\n",
    "    question_start_words = [question.split()[0] for question in df[\"Main Question\"].tolist()]\n",
    "    start_word_counts = Counter(question_start_words)\n",
    "    print(\"\\nMost common question starters:\")\n",
    "    for word, count in start_word_counts.most_common(5):\n",
    "        print(f\"- '{word}' appears {count} times\")\n",
    "\n",
    "    # 3. Common keywords or phrases\n",
    "    print(\"\\n=== Common Keywords or Phrases ===\")\n",
    "\n",
    "    #Cleaned question with the removal of all the stop word and puncuation so that, only the true meaning of the sentence remains\n",
    "    all_words = \" \".join(df[\"cleaned_questions\"]).split()\n",
    "    word_counts = Counter(all_words)\n",
    "    print(\"\\nMost common keywords:\")\n",
    "    for word, count in word_counts.most_common(10):  # Top 10 keywords\n",
    "        print(f\"- '{word}' appears {count} times\")\n",
    "\n",
    "# Generate the summary\n",
    "summarize_questions(df)"
   ]
  },
  {
   "cell_type": "code",
   "execution_count": 84,
   "metadata": {},
   "outputs": [
    {
     "name": "stdout",
     "output_type": "stream",
     "text": [
      "\n",
      "=== Patterns in Question Structure ===\n",
      "\n",
      "Most common question starters:\n",
      "- 'Does' appears 39 times\n",
      "- 'Do' appears 38 times\n",
      "- 'Is' appears 27 times\n",
      "- 'Are' appears 21 times\n",
      "- 'What' appears 20 times\n"
     ]
    }
   ],
   "source": [
    "print(\"\\n=== Patterns in Question Structure ===\")\n",
    "question_start_words = [question.split()[0] for question in df[\"Main Question\"].tolist()]\n",
    "start_word_counts = Counter(question_start_words)\n",
    "print(\"\\nMost common question starters:\")\n",
    "for word, count in start_word_counts.most_common(5):\n",
    "    print(f\"- '{word}' appears {count} times\")"
   ]
  },
  {
   "cell_type": "code",
   "execution_count": 90,
   "metadata": {},
   "outputs": [
    {
     "data": {
      "image/png": "[encoded data removed]",
      "text/plain": [
       "<Figure size 640x480 with 1 Axes>"
      ]
     },
     "metadata": {},
     "output_type": "display_data"
    }
   ],
   "source": [
    "import matplotlib.pyplot as plt\n",
    "\n",
    "\n",
    "top_words=[word for word,count in start_word_counts.most_common(10)]\n",
    "top_counts = [count for word, count in start_word_counts.most_common(10)]\n",
    "\n",
    "plt.bar(top_words, top_counts, color='skyblue')\n",
    "\n",
    "# Add title and labels\n",
    "plt.title('Most Common Questions')\n",
    "plt.xlabel('Words')\n",
    "plt.ylabel('Frequency')\n",
    "\n",
    "\n",
    "plt.xticks(rotation=45)\n",
    "\n",
    "# Display the chart\n",
    "plt.tight_layout()  # Adjust layout to prevent overlapping\n",
    "plt.show()"
   ]
  },
  {
   "cell_type": "code",
   "execution_count": 83,
   "metadata": {},
   "outputs": [
    {
     "name": "stdout",
     "output_type": "stream",
     "text": [
      "\n",
      "=== Common Keywords or Phrases ===\n",
      "\n",
      "Most common keywords:\n",
      "- 'data' appears 49 times\n",
      "- 'client' appears 35 times\n",
      "- 'please' appears 30 times\n",
      "- 'security' appears 27 times\n",
      "- 'provide' appears 26 times\n",
      "- 'access' appears 25 times\n",
      "- 'information' appears 24 times\n",
      "- 'organization' appears 21 times\n",
      "- 'application' appears 17 times\n",
      "- 'system' appears 17 times\n"
     ]
    }
   ],
   "source": [
    "print(\"\\n=== Common Keywords or Phrases ===\")\n",
    "all_words = \" \".join(df[\"cleaned_questions\"]).split()\n",
    "keywword_counts = Counter(all_words)\n",
    "print(\"\\nMost common keywords:\")\n",
    "for word, count in keywword_counts.most_common(10):  # Top 10 keywords\n",
    "    print(f\"- '{word}' appears {count} times\")"
   ]
  },
  {
   "cell_type": "code",
   "execution_count": 98,
   "metadata": {},
   "outputs": [
    {
     "data": {
      "image/png": "[encoded data removed]",
      "text/plain": [
       "<Figure size 640x480 with 1 Axes>"
      ]
     },
     "metadata": {},
     "output_type": "display_data"
    }
   ],
   "source": [
    "import matplotlib.pyplot as plt\n",
    "\n",
    "\n",
    "top_keywords=[word for word,count in keywword_counts.most_common(10)]\n",
    "top_counts = [count for word, count in keywword_counts.most_common(10)]\n",
    "\n",
    "plt.bar(top_keywords, top_counts, color='skyblue')\n",
    "\n",
    "# Add title and labels\n",
    "plt.title('Most Common Key Word')\n",
    "plt.xlabel('Words')\n",
    "plt.ylabel('Frequency')\n",
    "\n",
    "\n",
    "plt.xticks(rotation=45)\n",
    "\n",
    "# Display the chart\n",
    "plt.tight_layout()  # Adjust layout to prevent overlapping\n",
    "plt.show()"
   ]
  },
  {
   "cell_type": "code",
   "execution_count": 97,
   "metadata": {},
   "outputs": [
    {
     "name": "stdout",
     "output_type": "stream",
     "text": [
      "['access' 'application' 'client' 'data' 'information' 'organization'\n",
      " 'process' 'provide' 'security' 'systems']\n",
      "Keywords and their TF-IDF scores:\n",
      "- 'data': 0.1334\n",
      "- 'provide': 0.0930\n",
      "- 'security': 0.0897\n",
      "- 'client': 0.0793\n",
      "- 'information': 0.0787\n",
      "- 'access': 0.0746\n",
      "- 'organization': 0.0708\n",
      "- 'application': 0.0593\n",
      "- 'process': 0.0531\n",
      "- 'systems': 0.0502\n"
     ]
    },
    {
     "data": {
      "image/png": "[encoded data removed]",
      "text/plain": [
       "<Figure size 1000x600 with 1 Axes>"
      ]
     },
     "metadata": {},
     "output_type": "display_data"
    }
   ],
   "source": [
    "import numpy as np\n",
    "# Identify common keywords using TF-IDF\n",
    "vectorizer = TfidfVectorizer(stop_words=\"english\", max_features=10) #Sets up the TF-IDF vectorizer to use only the top 20 most frequent words as features.\n",
    "tfidf_matrix = vectorizer.fit_transform(df[\"cleaned_questions\"])\n",
    "keywords = vectorizer.get_feature_names_out() # It returns an array of feature names.\n",
    "print(keywords)\n",
    "\n",
    "tfidf_scores = np.mean(tfidf_matrix.toarray(), axis=0)\n",
    "\n",
    "keyword_score_pairs = list(zip(keywords, tfidf_scores))\n",
    "\n",
    "keyword_score_pairs.sort(key=lambda x: x[1], reverse=True)\n",
    "\n",
    "sorted_keywords, sorted_scores = zip(*keyword_score_pairs)\n",
    "\n",
    "# Print the keywords and their TF-IDF scores\n",
    "print(\"Keywords and their TF-IDF scores:\")\n",
    "for word, score in keyword_score_pairs:\n",
    "    print(f\"- '{word}': {score:.4f}\")\n",
    "\n",
    "\n",
    "\n",
    "plt.figure(figsize=(10, 6))\n",
    "\n",
    "plt.bar(sorted_keywords, sorted_scores, color='skyblue')\n",
    "\n",
    "\n",
    "plt.title('Keywords and Their TF-IDF Scores')\n",
    "plt.xlabel('Keywords')\n",
    "plt.ylabel('TF-IDF Score')\n",
    "\n",
    "\n",
    "plt.xticks(rotation=45, ha='right')\n",
    "\n",
    "# Display the chart\n",
    "plt.tight_layout()\n",
    "plt.show()"
   ]
  }
 ],
 "metadata": {
  "kernelspec": {
   "display_name": "Python 3",
   "language": "python",
   "name": "python3"
  },
  "language_info": {
   "codemirror_mode": {
    "name": "ipython",
    "version": 3
   },
   "file_extension": ".py",
   "mimetype": "text/x-python",
   "name": "python",
   "nbconvert_exporter": "python",
   "pygments_lexer": "ipython3",
   "version": "3.12.9"
  }
 },
 "nbformat": 4,
 "nbformat_minor": 2
}
